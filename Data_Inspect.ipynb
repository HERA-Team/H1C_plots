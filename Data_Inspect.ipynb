{
 "cells": [
  {
   "cell_type": "markdown",
   "metadata": {},
   "source": [
    "# Inspecting Data, Metrics and Calibration Solutions"
   ]
  },
  {
   "cell_type": "code",
   "execution_count": null,
   "metadata": {
    "collapsed": true
   },
   "outputs": [],
   "source": [
    "%matplotlib inline\n",
    "import matplotlib\n",
    "import matplotlib.pyplot as plt\n",
    "from matplotlib.ticker import FormatStrFormatter\n",
    "import matplotlib.patches as mpatches\n",
    "import numpy as np\n",
    "import hera_qm as hqm\n",
    "import hera_cal as hc\n",
    "import aipy\n",
    "from pyuvdata import UVCal, UVData, UVFITS\n",
    "import os\n",
    "import sys\n",
    "import glob\n",
    "from memory_profiler import memory_usage as memuse\n",
    "import uvtools as uvt\n",
    "from collections import OrderedDict\n",
    "from astropy.time import Time\n",
    "import pandas\n",
    "import aipy.miriad as apm\n",
    "import re\n",
    "import copy"
   ]
  },
  {
   "cell_type": "markdown",
   "metadata": {},
   "source": [
    "## Setup Env Vars\n"
   ]
  },
  {
   "cell_type": "code",
   "execution_count": null,
   "metadata": {
    "collapsed": true
   },
   "outputs": [],
   "source": [
    "# get data location\n",
    "data_path = os.environ['DATA_PATH']"
   ]
  },
  {
   "cell_type": "code",
   "execution_count": null,
   "metadata": {
    "collapsed": true
   },
   "outputs": [],
   "source": [
    "# get xx and yy files\n",
    "xxfiles = sorted(glob.glob(\"{0}/zen.*.*.xx.HH.uv\".format(data_path)))\n",
    "yyfiles = sorted(glob.glob(\"{0}/zen.*.*.yy.HH.uv\".format(data_path)))\n",
    "Nfiles = len(xxfiles)\n",
    "\n",
    "xxfile_bases = map(os.path.basename, xxfiles)\n",
    "yyfile_bases = map(os.path.basename, yyfiles)\n",
    "\n",
    "xxfile_times = np.array(map(lambda x: '.'.join(os.path.basename(x).split('.')[1:3]), xxfiles), np.float)\n",
    "yyfile_times = np.array(map(lambda y: '.'.join(os.path.basename(y).split('.')[1:3]), yyfiles), np.float)\n",
    "\n",
    "# choose one for single-file plots\n",
    "file_index = 20\n",
    "xxfile = xxfiles[file_index]\n",
    "yyfile = yyfiles[file_index]\n",
    "xxfile_base = xxfile_bases[file_index]\n",
    "yyfile_base = yyfile_bases[file_index]\n",
    "file_jd = xxfile_times[file_index]"
   ]
  },
  {
   "cell_type": "code",
   "execution_count": null,
   "metadata": {
    "collapsed": true
   },
   "outputs": [],
   "source": [
    "# Load data\n",
    "uvd_xx = UVData()\n",
    "uvd_xx.read_miriad(xxfile)\n",
    "uvd_xx.ants = np.unique(np.concatenate([uvd_xx.ant_1_array, uvd_xx.ant_2_array]))\n",
    "uvd_yy = UVData()\n",
    "uvd_yy.read_miriad(yyfile)\n",
    "uvd_yy.ants = np.unique(np.concatenate([uvd_yy.ant_1_array, uvd_yy.ant_2_array]))\n",
    "\n",
    "# Get metadata\n",
    "freqs = uvd_xx.freq_array.squeeze() / 1e6\n",
    "times = uvd_xx.time_array.reshape(uvd_xx.Ntimes, uvd_xx.Nbls)[:, 0]\n",
    "jd_start = np.floor(times.min())\n",
    "Nfreqs = len(freqs)\n",
    "Ntimes = len(times)\n",
    "\n",
    "# get redundant info\n",
    "aa = hc.utils.get_aa_from_uv(uvd_xx)\n",
    "info = hc.omni.aa_to_info(aa)\n",
    "red_bls = np.array(info.get_reds())\n",
    "ants = sorted(np.unique(np.concatenate(red_bls)))\n",
    "Nants = len(ants)\n",
    "Nside = int(np.ceil(np.sqrt(Nants)))\n",
    "Yside = int(np.ceil(float(Nants)/Nside))"
   ]
  },
  {
   "cell_type": "markdown",
   "metadata": {},
   "source": [
    "## Autocorrelations"
   ]
  },
  {
   "cell_type": "code",
   "execution_count": null,
   "metadata": {},
   "outputs": [],
   "source": [
    "### plot autos\n",
    "t_index = 0\n",
    "jd = times[t_index]\n",
    "utc = Time(jd, format='jd').datetime\n",
    "\n",
    "xlim = (-50, Nfreqs+50)\n",
    "ylim = (-10,30)\n",
    "\n",
    "fig, axes = plt.subplots(Yside, Nside, figsize=(14,14), dpi=75)\n",
    "fig.subplots_adjust(wspace=0.2, hspace=0.2)\n",
    "fig.suptitle(\"JD = {0}, time = {1} UTC\".format(jd, utc), fontsize=14)\n",
    "fig.tight_layout(rect=(0, 0, 1, 0.95))\n",
    "\n",
    "k = 0\n",
    "for i in range(Yside):\n",
    "    for j in range(Nside):\n",
    "        ax = axes[i,j]\n",
    "        ax.set_xlim(xlim)\n",
    "        ax.set_ylim(ylim)\n",
    "        if k < Nants:\n",
    "            px, = ax.plot(10*np.log10(np.abs(uvd_xx.get_data((ants[k], ants[k]))[t_index])), color='steelblue', alpha=0.75, linewidth=3)\n",
    "            py, = ax.plot(10*np.log10(np.abs(uvd_yy.get_data((ants[k], ants[k]))[t_index])), color='darkorange', alpha=0.75, linewidth=3)\n",
    "            ax.grid(True, which='both')\n",
    "            ax.set_title(str(ants[k]), fontsize=14)\n",
    "            if k == 0:\n",
    "                ax.legend([px, py], ['East', 'North'], fontsize=12)\n",
    "        else:\n",
    "            ax.axis('off')\n",
    "        if j != 0:\n",
    "            ax.set_yticklabels([])\n",
    "        else:\n",
    "            [t.set_fontsize(12) for t in ax.get_yticklabels()]\n",
    "            ax.set_ylabel(r'$10\\cdot\\log_{10}$ amplitude', fontsize=14)\n",
    "        if i != Yside-1:\n",
    "            ax.set_xticklabels([])\n",
    "        else:\n",
    "            [t.set_fontsize(12) for t in ax.get_xticklabels()]\n",
    "            ax.set_xlabel('freq channel', fontsize=14)\n",
    "\n",
    "        k += 1"
   ]
  },
  {
   "cell_type": "markdown",
   "metadata": {},
   "source": [
    "### Plot auto amplitude at a specific frequency over entire night"
   ]
  },
  {
   "cell_type": "code",
   "execution_count": null,
   "metadata": {},
   "outputs": [],
   "source": [
    "def timeseries_data(files, nu_index=500):\n",
    "    amps = []\n",
    "    times = []\n",
    "    print \"gather nightly data for JD = {0}\".format(jd_start)\n",
    "    Nfiles = len(files)\n",
    "    for i, fname in enumerate(files):\n",
    "        uvd = apm.UV(fname)\n",
    "        uvd.select('auto', -1, -1)\n",
    "        Ntimes = uvd['ntimes']\n",
    "        Nants = len(uvd['antnums'])\n",
    "        Nfreqs = uvd['nchan']\n",
    "        auto = []\n",
    "        time = []\n",
    "        for (uvw, t, (i, j)), d, f in uvd.all(raw=True):\n",
    "            auto.append(np.abs(d))\n",
    "            time.append(t)\n",
    "        amps.extend(np.array(auto).reshape(Ntimes, Nants, Nfreqs)[:, :, nu_index])\n",
    "        times.extend(np.array(time).reshape(Ntimes, Nants)[:, 0])\n",
    "        del uvd\n",
    "    return np.array(amps).T, np.array(times)\n",
    "\n",
    "nu_index = 500\n",
    "amps_timeseries_xx, times_xx = timeseries_data(xxfiles, nu_index=nu_index)\n",
    "amps_timeseries_yy, times_yy = timeseries_data(yyfiles, nu_index=nu_index)\n",
    "times_xx = times_xx % 1\n",
    "times_yy = times_yy % 1"
   ]
  },
  {
   "cell_type": "code",
   "execution_count": null,
   "metadata": {},
   "outputs": [],
   "source": [
    "# plot autos\n",
    "ylim = (0, np.median(np.abs(amps_timeseries_xx))*3)\n",
    "ylim = (1e-1, np.abs(amps_timeseries_xx).max() * 3)\n",
    "\n",
    "fig, axes = plt.subplots(Yside, Nside, figsize=(14,14), dpi=75)\n",
    "fig.subplots_adjust(wspace=0.2, hspace=0.2)\n",
    "fig.suptitle(\"autocorrelation from {0} -- {1} at freq bin {2}\".format(times[0], times[-1], nu_index), fontsize=14)\n",
    "fig.tight_layout(rect=(0, 0, 1, 0.95))\n",
    "\n",
    "k = 0\n",
    "for i in range(Yside):\n",
    "    for j in range(Nside):\n",
    "        ax = axes[i,j]\n",
    "        ax.set_ylim(ylim)\n",
    "        if k < Nants:\n",
    "            ax.set_yscale('log')\n",
    "            px, = ax.plot(times_xx, np.abs(amps_timeseries_xx[k]), color='steelblue', alpha=0.5, linewidth=3)\n",
    "            py, = ax.plot(times_yy, np.abs(amps_timeseries_yy[k]), color='darkorange', alpha=0.5, linewidth=3)\n",
    "            ax.grid(True)\n",
    "            ax.set_title(str(ants[k]), fontsize=14)\n",
    "            if k == 0:\n",
    "                ax.legend([px, py], ['East', 'North'], fontsize=12)\n",
    "        else:\n",
    "            ax.axis('off')\n",
    "        if j != 0:\n",
    "            ax.set_yticklabels([])\n",
    "        else:\n",
    "            [t.set_fontsize(12) for t in ax.get_yticklabels()]\n",
    "            ax.set_ylabel('amplitude', fontsize=14)\n",
    "        if i != Yside-1:\n",
    "            ax.set_xticklabels([])\n",
    "        else:\n",
    "            [t.set_fontsize(12) for t in ax.get_xticklabels()]\n",
    "            [t.set_rotation(25) for t in ax.get_xticklabels()]\n",
    "            ax.xaxis.set_major_formatter(FormatStrFormatter('%.3f'))\n",
    "            ax.set_xlabel('decimal of JD', fontsize=14)\n",
    "        k += 1"
   ]
  },
  {
   "cell_type": "markdown",
   "metadata": {
    "collapsed": true
   },
   "source": [
    "## Plot Ant Metrics"
   ]
  },
  {
   "cell_type": "markdown",
   "metadata": {},
   "source": [
    "### Ant metrics for a single file"
   ]
  },
  {
   "cell_type": "code",
   "execution_count": null,
   "metadata": {
    "collapsed": true
   },
   "outputs": [],
   "source": [
    "antfile = xxfile_base.split('.')\n",
    "antfile.pop(3)\n",
    "antfile = os.path.join(data_path, '.'.join(antfile) + '.ant_metrics.json')\n",
    "ant_metrics = hqm.ant_metrics.load_antenna_metrics(antfile)"
   ]
  },
  {
   "cell_type": "code",
   "execution_count": null,
   "metadata": {
    "collapsed": true
   },
   "outputs": [],
   "source": [
    "def plot_metric(metrics, ants=None, antpols=None, title='', ylabel='Modified z-Score', xlabel=''):\n",
    "    '''Helper function for quickly plotting an individual antenna metric.'''\n",
    "\n",
    "    if ants is None:\n",
    "        ants = list(set([key[0] for key in metrics.keys()]))\n",
    "    if antpols is None:\n",
    "        antpols = list(set([key[1] for key in metrics.keys()]))\n",
    "\n",
    "    for antpol in antpols:\n",
    "        for i,ant in enumerate(ants):\n",
    "            metric = 0\n",
    "            if metrics.has_key((ant,antpol)):\n",
    "                metric = metrics[(ant,antpol)]\n",
    "            plt.plot(i,metric,'.')\n",
    "            if antpol == 'y':\n",
    "                antpol_str = 'n'\n",
    "            elif antpol == 'x':\n",
    "                antpol_str = 'e'\n",
    "            plt.annotate(str(ant)+antpol_str,xy=(i,metrics[(ant,antpol)]))\n",
    "        plt.gca().set_prop_cycle(None)\n",
    "    plt.title(title)\n",
    "    plt.ylabel(ylabel)\n",
    "    plt.xlabel(xlabel)"
   ]
  },
  {
   "cell_type": "code",
   "execution_count": null,
   "metadata": {},
   "outputs": [],
   "source": [
    "print \"Ant Metrics for {}\".format(antfile)\n",
    "plt.figure()\n",
    "plot_metric(ant_metrics['final_mod_z_scores']['meanVij'], \n",
    "            title = 'Mean Vij Modified z-Score')\n",
    "\n",
    "plt.figure()\n",
    "plot_metric(ant_metrics['final_mod_z_scores']['redCorr'],\n",
    "            title = 'Redundant Visibility Correlation Modified z-Score')\n",
    "\n",
    "plt.figure()\n",
    "plot_metric(ant_metrics['final_mod_z_scores']['meanVijXPol'], antpols=['x'],\n",
    "            title = 'Modified z-score of (Vxy+Vyx)/(Vxx+Vyy)')\n",
    "\n",
    "plt.figure()\n",
    "plot_metric(ant_metrics['final_mod_z_scores']['redCorrXPol'], antpols=['x'],\n",
    "            title = 'Modified z-Score of Power Correlation Ratio Cross/Same')"
   ]
  },
  {
   "cell_type": "markdown",
   "metadata": {},
   "source": [
    "### Ant Metrics `xants` over the entire observation"
   ]
  },
  {
   "cell_type": "code",
   "execution_count": null,
   "metadata": {
    "collapsed": true
   },
   "outputs": [],
   "source": [
    "# append xants ant metrics over night\n",
    "xants = np.zeros((Nants*2, Nfiles))\n",
    "dead_ants = np.zeros((Nants*2, Nfiles))\n",
    "cross_ants = np.zeros((Nants*2, Nfiles))\n",
    "badants = []\n",
    "pol2ind = {'x':0, 'y':1}\n",
    "\n",
    "for i, fbase in enumerate(xxfile_bases):\n",
    "    antfname = fbase.split('.')\n",
    "    antfname.pop(3)\n",
    "    antfname = os.path.join(data_path, '.'.join(antfname) + '.ant_metrics.json')\n",
    "    try:\n",
    "        antmets = hqm.ant_metrics.load_antenna_metrics(antfname)\n",
    "        for j in antmets['xants']:\n",
    "            xants[2*ants.index(j[0])+pol2ind[j[1]], i] = 1\n",
    "        badants.extend(map(lambda x: x[0], antmets['xants']))\n",
    "        for j in antmets['crossed_ants']:\n",
    "            cross_ants[2*ants.index(j[0])+pol2ind[j[1]], i] = 1\n",
    "        for j in antmets['dead_ants']:\n",
    "            dead_ants[2*ants.index(j[0])+pol2ind[j[1]], i] = 1\n",
    "    except:\n",
    "        pass\n",
    "    \n",
    "badants = np.unique(badants)\n",
    "\n",
    "xants[np.where(xants==1.0)] *= np.nan\n",
    "dead_ants[np.where(dead_ants==0.0)] *= np.nan\n",
    "cross_ants[np.where(cross_ants==0.0)] *= np.nan"
   ]
  },
  {
   "cell_type": "code",
   "execution_count": null,
   "metadata": {},
   "outputs": [],
   "source": [
    "# figure\n",
    "fig, ax = plt.subplots(1, figsize=(16,25), dpi=75)\n",
    "\n",
    "# plotting\n",
    "ax.matshow(xants, aspect='auto', cmap='RdYlGn_r', vmin=-.3, vmax=1.3,\n",
    "           extent=[0, len(xxfile_times), Nants*2, 0])\n",
    "ax.matshow(dead_ants, aspect='auto', cmap='RdYlGn_r', vmin=-.3, vmax=1.3,\n",
    "           extent=[0, len(xxfile_times), Nants*2, 0])\n",
    "ax.matshow(cross_ants, aspect='auto', cmap='RdBu', vmin=-.3, vmax=1.3,\n",
    "           extent=[0, len(xxfile_times), Nants*2, 0])\n",
    "\n",
    "# axes\n",
    "ax.grid(color='k')\n",
    "ax.xaxis.set_ticks_position('bottom')\n",
    "ax.set_xticks(np.arange(len(xxfile_times))+0.5)\n",
    "ax.set_yticks(np.arange(Nants*2)+0.5)\n",
    "ax.tick_params(size=8)\n",
    "if Nfiles > 20:\n",
    "    ticklabels = np.around(xxfile_times % jd_start, 3).astype(str)\n",
    "    ticklabels[::2] = ''\n",
    "    ax.set_xticklabels(ticklabels)\n",
    "else:\n",
    "    ax.set_xticklabels(np.around(xxfile_times % jd_start, 3))\n",
    "ax.set_yticklabels([''.join([str(a), p]) for a in ants for p in ['e', 'n']])\n",
    "\n",
    "[t.set_rotation(30) for t in ax.get_xticklabels()]\n",
    "[t.set_size(12) for t in ax.get_xticklabels()]\n",
    "[t.set_rotation(0) for t in ax.get_yticklabels()]\n",
    "[t.set_size(12) for t in ax.get_yticklabels()]\n",
    "\n",
    "ax.set_title(\"Ant Metrics bad ants over observation\", fontsize=14)\n",
    "ax.set_xlabel('decimal of JD = {}'.format(int(jd_start)), fontsize=16)\n",
    "ax.set_ylabel('antenna number and pol', fontsize=16)\n",
    "red_ptch = mpatches.Patch(color='red')\n",
    "grn_ptch = mpatches.Patch(color='green')\n",
    "blu_ptch = mpatches.Patch(color='blue')\n",
    "ax.legend([red_ptch, blu_ptch, grn_ptch], ['dead ant', 'cross ant', 'good ant'], fontsize=14)"
   ]
  },
  {
   "cell_type": "markdown",
   "metadata": {},
   "source": [
    "### Plot Ant Metrics over observation for specific antennas"
   ]
  },
  {
   "cell_type": "code",
   "execution_count": null,
   "metadata": {
    "collapsed": true
   },
   "outputs": [],
   "source": [
    "# get ant metrics over night for specific antennas\n",
    "ant_indices = np.where(np.sum(np.isnan(xants), axis=1) > 0)[0]\n",
    "\n",
    "# append ant metrics over night\n",
    "antpols = np.concatenate(map(lambda x: [str(x)+'e', str(x)+'n'], ants))[ant_indices]\n",
    "ap_list = OrderedDict([(ap, []) for ap in antpols])\n",
    "mets = {'meanVij':copy.deepcopy(ap_list), 'meanVijXPol':copy.deepcopy(ap_list), 'redCorr':copy.deepcopy(ap_list), 'redCorrXPol':copy.deepcopy(ap_list)}\n",
    "tfiles = []\n",
    "pol2ind = {'x':0, 'y':1}\n",
    "\n",
    "for i, fbase in enumerate(xxfile_bases):\n",
    "    antfname = fbase.split('.')\n",
    "    antfname.pop(3)\n",
    "    antfname = os.path.join(data_path, '.'.join(antfname) + '.ant_metrics.json')\n",
    "    try:\n",
    "        antmets = hqm.ant_metrics.load_antenna_metrics(antfname)['final_mod_z_scores']\n",
    "        tfiles.append(float('.'.join(fbase.split('.')[1:3])))\n",
    "        for am in antmets.keys():\n",
    "            for ap in antpols:\n",
    "                a,p = re.match(r\"([0-9]+)([a-z]+)\", ap, re.I).groups()\n",
    "                mets[am][ap].append(antmets[am][(int(a), 'x' if p == 'e' else 'y')])\n",
    "    except:\n",
    "        pass\n",
    "    \n",
    "tfiles = np.array(tfiles) % np.floor(np.min(tfiles))"
   ]
  },
  {
   "cell_type": "code",
   "execution_count": null,
   "metadata": {},
   "outputs": [],
   "source": [
    "fig, ax = plt.subplots(4, 1, figsize=(16,20), dpi=75)\n",
    "\n",
    "for i, am in enumerate(mets.keys()):\n",
    "    ax[i].grid(True)\n",
    "    pl = np.concatenate([ax[i].plot(tfiles, mets[am][k], alpha=0.75, ms=5, marker='o') for k in mets[am].keys()])\n",
    "    ax[i].legend(pl, mets[am].keys())\n",
    "    ax[i].set_title(am)\n",
    "    ax[i].set_ylabel('modified z-score', fontsize=12)\n",
    "\n",
    "ax[-1].set_xlabel('decimal of JD = {}'.format(jd_start), fontsize=14)"
   ]
  },
  {
   "cell_type": "markdown",
   "metadata": {},
   "source": [
    "## Firstcal Solutions and Metrics"
   ]
  },
  {
   "cell_type": "markdown",
   "metadata": {},
   "source": [
    "### Plot each Antenna's delay solution and its delay solution fluctuation over the observation\n",
    "\n",
    "Delay fluctuation is the delay solution over time having removed a time-median from each antenna.\n",
    "\n",
    "Have to use a hacky-way to get delay data for entire night b/c the `first.calfits` file are large and reading them all in w/ `pyuvdata.UVCal` takes too long.\n",
    "\n",
    "Note that even though all antennas are listed in the legends below, antennas that are marked \"bad\" above are **not** included in the delay solutions for that file."
   ]
  },
  {
   "cell_type": "code",
   "execution_count": null,
   "metadata": {
    "collapsed": true
   },
   "outputs": [],
   "source": [
    "fcfiles_xx = np.array(map(lambda x: os.path.join(data_path, x + '.first.calfits'), xxfile_bases))\n",
    "fcfiles_yy = np.array(map(lambda x: os.path.join(data_path, x + '.first.calfits'), yyfile_bases))\n",
    "\n",
    "fcfiles_xx = (fcfiles_xx[map(lambda x: os.path.isfile(x), fcfiles_xx)]).tolist()\n",
    "fcfiles_yy = (fcfiles_yy[map(lambda x: os.path.isfile(x), fcfiles_yy)]).tolist()"
   ]
  },
  {
   "cell_type": "code",
   "execution_count": null,
   "metadata": {
    "collapsed": true
   },
   "outputs": [],
   "source": [
    "def load_fc_delays(files):\n",
    "    dly = OrderedDict([(a,[]) for a in ants])\n",
    "    fluc = OrderedDict([(a,[]) for a in ants])\n",
    "    times = []\n",
    "    for i, f in enumerate(files):\n",
    "        FC = hqm.firstcal_metrics.FirstCal_Metrics(f, use_gp=False)\n",
    "        for a in ants:\n",
    "            if a in FC.ants:\n",
    "                dly[a].extend(FC.delays[FC.ants.tolist().index(a)])\n",
    "                fluc[a].extend(FC.delay_fluctuations[FC.ants.tolist().index(a)])\n",
    "            else:\n",
    "                dly[a].extend(np.ones(FC.delays.shape[1])*np.nan)\n",
    "                fluc[a].extend(np.ones(FC.delays.shape[1])*np.nan)\n",
    "        times.extend(FC.times)\n",
    "    return dly, fluc, np.array(times)\n",
    "\n",
    "dly_xx, fluc_xx, times_xx = load_fc_delays(fcfiles_xx)\n",
    "dly_yy, fluc_yy, times_yy = load_fc_delays(fcfiles_yy)\n",
    "times_xx, times_yy = times_xx % jd_start, times_yy % jd_start\n",
    "\n",
    "#fluc_xx = OrderedDict([(a,[]) for a in ants])\n",
    "#fluc_yy = OrderedDict([(a,[]) for a in ants])\n",
    "\n",
    "#for a in ants: fluc_xx[a] = dly_xx[a] - np.median(dly_xx[a])\n",
    "#for a in ants: fluc_yy[a] = dly_yy[a] - np.median(dly_yy[a])\n",
    "    \n",
    "goodxxants = np.array(ants)[~np.array([np.isnan(np.sum(dly_xx[a])) for a in ants])]\n",
    "goodyyants = np.array(ants)[~np.array([np.isnan(np.sum(dly_yy[a])) for a in ants])]"
   ]
  },
  {
   "cell_type": "code",
   "execution_count": null,
   "metadata": {},
   "outputs": [],
   "source": [
    "fig, axes = plt.subplots(2, 1, figsize=(10,8), dpi=75)\n",
    "fig.subplots_adjust(hspace=0.4)\n",
    "\n",
    "cm_func = plt.get_cmap('nipy_spectral')\n",
    "cm = cm_func(np.linspace(0, 0.95, Nants))\n",
    "\n",
    "ax = axes[0]\n",
    "ax.grid(True)\n",
    "plabels = [ax.plot(times_xx, dly_xx[a], marker='.', c=cm[i], ms=5, ls='', alpha=0.75) for i, a in enumerate(ants)]\n",
    "ax.set_xlabel('decimal of JD %d' % jd_start, fontsize=14)\n",
    "ax.set_ylabel('delay solution [ns]', fontsize=14)\n",
    "ax.set_title(\"FirstCal Delay Solutions for East Pol\", fontsize=14)\n",
    "[t.set_size(12) for t in ax.get_xticklabels()]\n",
    "[t.set_size(12) for t in ax.get_yticklabels()]\n",
    "\n",
    "ax = axes[1]\n",
    "ax.grid(True)\n",
    "plabels = [ax.plot(times_xx, fluc_xx[a], marker='.', c=cm[i], ms=5, ls='', alpha=0.5) for i, a in enumerate(ants)]\n",
    "ax.set_xlabel('decimal of JD %d' % jd_start, fontsize=14)\n",
    "ax.set_ylabel('delay fluctuation [ns]', fontsize=14)\n",
    "ax.set_ylim(-2, 2)\n",
    "[t.set_size(12) for t in ax.get_xticklabels()]\n",
    "[t.set_size(12) for t in ax.get_yticklabels()]\n",
    "\n",
    "ax = fig.add_axes([1.03, 0.1, 0.05, 0.8])\n",
    "ax.axis('off')\n",
    "ax.legend(np.concatenate(plabels), ants, ncol=2)"
   ]
  },
  {
   "cell_type": "code",
   "execution_count": null,
   "metadata": {},
   "outputs": [],
   "source": [
    "fig, axes = plt.subplots(2, 1, figsize=(10,8), dpi=75)\n",
    "fig.subplots_adjust(hspace=0.4)\n",
    "\n",
    "cm_func = plt.get_cmap('nipy_spectral')\n",
    "cm = cm_func(np.linspace(0, 0.95, Nants))\n",
    "\n",
    "ax = axes[0]\n",
    "ax.grid(True)\n",
    "plabels = [ax.plot(times_yy, dly_yy[a], marker='.', c=cm[i], ms=5, ls='', alpha=0.75) for i, a in enumerate(ants)]\n",
    "ax.set_xlabel('decimal of JD %d' % jd_start, fontsize=14)\n",
    "ax.set_ylabel('delay solution [ns]', fontsize=14)\n",
    "ax.set_title(\"FirstCal Delay Solutions for North Pol\", fontsize=14)\n",
    "[t.set_size(12) for t in ax.get_xticklabels()]\n",
    "[t.set_size(12) for t in ax.get_yticklabels()]\n",
    "\n",
    "ax = axes[1]\n",
    "ax.grid(True)\n",
    "plabels = [ax.plot(times_yy, fluc_yy[a], marker='.', c=cm[i], ms=5, ls='', alpha=0.5) for i, a in enumerate(ants)]\n",
    "ax.set_xlabel('decimal of JD %d' % jd_start, fontsize=14)\n",
    "ax.set_ylabel('delay fluctuation [ns]', fontsize=14)\n",
    "ax.set_ylim(-2, 2)\n",
    "[t.set_size(12) for t in ax.get_xticklabels()]\n",
    "[t.set_size(12) for t in ax.get_yticklabels()]\n",
    "\n",
    "ax = fig.add_axes([1.03, 0.1, 0.05, 0.8])\n",
    "ax.axis('off')\n",
    "ax.legend(np.concatenate(plabels), ants, ncol=2)"
   ]
  },
  {
   "cell_type": "markdown",
   "metadata": {},
   "source": [
    "### collect `firstcal_metrics` over the observation"
   ]
  },
  {
   "cell_type": "code",
   "execution_count": null,
   "metadata": {
    "collapsed": true
   },
   "outputs": [],
   "source": [
    "# append fc metrics across entire night\n",
    "fc_met_xxfiles = map(lambda x: x + '.firstcal_metrics.json', fcfiles_xx)\n",
    "fc_met_yyfiles = map(lambda x: x + '.firstcal_metrics.json', fcfiles_yy)\n",
    "\n",
    "mets_xx = OrderedDict({'file_times':[],\n",
    "                        'ant_dly_std':OrderedDict(map(lambda a: (a, []), ants)),\n",
    "                        'good_sol':[],\n",
    "                        'rot_ants':[]})\n",
    "mets_yy = OrderedDict({'file_times':[],\n",
    "                        'ant_dly_std':OrderedDict(map(lambda a: (a, []), ants)),\n",
    "                        'good_sol':[],\n",
    "                        'rot_ants':[]})\n",
    "\n",
    "for i, (fc_met_xxfile, fc_met_yyfile) in enumerate(zip(fc_met_xxfiles, fc_met_yyfiles)):\n",
    "    fc_xx_mets = hqm.firstcal_metrics.load_firstcal_metrics(fc_met_xxfile)\n",
    "    fc_yy_mets = hqm.firstcal_metrics.load_firstcal_metrics(fc_met_yyfile)\n",
    "    \n",
    "    mets_xx['file_times'].append(float('.'.join(os.path.basename(fc_xx_mets['fc_filestem']).split('.')[1:3])) % jd_start)\n",
    "    mets_xx['good_sol'].append(fc_xx_mets['good_sol'])\n",
    "    mets_xx['rot_ants'].append(fc_xx_mets['rot_ants'])\n",
    "    \n",
    "    mets_yy['file_times'].append(float('.'.join(os.path.basename(fc_yy_mets['fc_filestem']).split('.')[1:3])) % jd_start)\n",
    "    mets_yy['good_sol'].append(fc_yy_mets['good_sol'])\n",
    "    mets_yy['rot_ants'].append(fc_yy_mets['rot_ants'])\n",
    "    \n",
    "    for a in ants:\n",
    "        if a in fc_xx_mets['ants']:\n",
    "            mets_xx['ant_dly_std'][a].append(fc_xx_mets['ant_std'][a])\n",
    "        else:\n",
    "            mets_xx['ant_dly_std'][a].append(np.nan)\n",
    "        if a in fc_yy_mets['ants']:\n",
    "            mets_yy['ant_dly_std'][a].append(fc_yy_mets['ant_std'][a])\n",
    "        else:\n",
    "            mets_yy['ant_dly_std'][a].append(np.nan)"
   ]
  },
  {
   "cell_type": "markdown",
   "metadata": {},
   "source": [
    "### get rotated antennas"
   ]
  },
  {
   "cell_type": "code",
   "execution_count": null,
   "metadata": {},
   "outputs": [],
   "source": [
    "print \"detected XX rotated antennas: {}\".format(np.unique(mets_xx['rot_ants']))\n",
    "print \"detected yy rotated antennas: {}\".format(np.unique(mets_yy['rot_ants']))"
   ]
  },
  {
   "cell_type": "markdown",
   "metadata": {},
   "source": [
    "### plot delay fluctuation standard deviation for each antenna per file"
   ]
  },
  {
   "cell_type": "code",
   "execution_count": null,
   "metadata": {},
   "outputs": [],
   "source": [
    "fig = plt.figure(figsize=(12,8), dpi=75)\n",
    "ax = fig.add_subplot(111)\n",
    "ax.grid(True)\n",
    "\n",
    "# plotting\n",
    "cm_func = plt.get_cmap('nipy_spectral')\n",
    "cm = cm_func(np.linspace(0, 0.95, len(ants)))\n",
    "p = map(lambda x: ax.plot(mets_xx['file_times'], x[1], marker='o', ls='-', c=cm[x[0]]), enumerate(np.array(mets_xx['ant_dly_std'].values())))\n",
    "\n",
    "# axes\n",
    "ax.xaxis.set_major_formatter(FormatStrFormatter('%.3f'))\n",
    "[t.set_rotation(20) for t in ax.get_xticklabels()]\n",
    "[t.set_fontsize(12) for t in ax.get_xticklabels()]\n",
    "[t.set_fontsize(12) for t in ax.get_yticklabels()]\n",
    "ax.set_xlabel('decimal of JD {}'.format(jd_start), fontsize=14)\n",
    "ax.set_ylabel('standard deviation [nanosec]', fontsize=16)\n",
    "ax.set_title(\"standard deviation of delay fluctuation per file for East pol\", fontsize=14)\n",
    "ax1 = fig.add_axes([1.03,0.1,0.05,0.8])\n",
    "ax1.axis('off')\n",
    "leg = ax1.legend(np.concatenate(p), ants, ncol=2)"
   ]
  },
  {
   "cell_type": "code",
   "execution_count": null,
   "metadata": {},
   "outputs": [],
   "source": [
    "fig = plt.figure(figsize=(12,8), dpi=75)\n",
    "ax = fig.add_subplot(111)\n",
    "ax.grid(True)\n",
    "\n",
    "# plotting\n",
    "cm_func = plt.get_cmap('nipy_spectral')\n",
    "cm = cm_func(np.linspace(0, 0.95, len(ants)))\n",
    "p = map(lambda x: ax.plot(mets_yy['file_times'], x[1], marker='o', ls='-', c=cm[x[0]]), enumerate(np.array(mets_yy['ant_dly_std'].values())))\n",
    "\n",
    "# axes\n",
    "ax.xaxis.set_major_formatter(FormatStrFormatter('%.3f'))\n",
    "[t.set_rotation(20) for t in ax.get_xticklabels()]\n",
    "[t.set_fontsize(12) for t in ax.get_xticklabels()]\n",
    "[t.set_fontsize(12) for t in ax.get_yticklabels()]\n",
    "ax.set_xlabel('decimal of JD {}'.format(jd_start), fontsize=14)\n",
    "ax.set_ylabel('standard deviation [nanosec]', fontsize=16)\n",
    "ax.set_title(\"standard deviation of delay fluctuation per file for North pol\", fontsize=14)\n",
    "ax1 = fig.add_axes([1.03,0.1,0.05,0.8])\n",
    "ax1.axis('off')\n",
    "leg = ax1.legend(np.concatenate(p), ants, ncol=2)"
   ]
  },
  {
   "cell_type": "markdown",
   "metadata": {},
   "source": [
    "### plot firstcal good / bad solution determination\n",
    "\n",
    "Based on wheter the `max_std` of the delay fluctuations across all antennas is greater less or greater (good / bad) than `std_cut`, which is set to 0.5 nanoseconds by default."
   ]
  },
  {
   "cell_type": "code",
   "execution_count": null,
   "metadata": {},
   "outputs": [],
   "source": [
    "fig, ax = plt.subplots(1, figsize=(12, 6), dpi=75)\n",
    "\n",
    "p1, = ax.plot(mets_xx['file_times'], mets_xx['good_sol'], 'o', ms=5, color='steelblue')\n",
    "p2, = ax.plot(mets_yy['file_times'], np.array(mets_yy['good_sol'], np.int)+.1, 'o', ms=5, color='darkorange')\n",
    "\n",
    "ax.xaxis.set_major_formatter(FormatStrFormatter('%.3f'))\n",
    "ax.set_yticks([.05, 1.05])\n",
    "ax.set_yticklabels(['bad solution', 'good solution'])\n",
    "[t.set_size(14) for t in ax.get_yticklabels()]\n",
    "[t.set_rotation(25) for t in ax.get_xticklabels()]\n",
    "[t.set_size(14) for t in ax.get_xticklabels()]\n",
    "ax.grid(True)\n",
    "ax.legend([p1,p2], [\"E pol\", \"N pol\"], fontsize=14)\n",
    "ax.set_xlabel('decimal of JD {}'.format(jd_start), fontsize=14)\n",
    "ax.set_title(\"FirstCal solution goodness per file\", fontsize=14)\n",
    "ax.set_ylim(-0.2, 1.2)"
   ]
  },
  {
   "cell_type": "markdown",
   "metadata": {
    "collapsed": true
   },
   "source": [
    "## Omnical Solutions"
   ]
  },
  {
   "cell_type": "code",
   "execution_count": null,
   "metadata": {
    "collapsed": true
   },
   "outputs": [],
   "source": [
    "# get files\n",
    "def remove_pol(fname):\n",
    "    fname = fname.split('.')\n",
    "    fname.pop(3)\n",
    "    return '.'.join(fname)\n",
    "\n",
    "ocfiles = map(lambda x: os.path.join(data_path, x + '.omni.calfits'), map(remove_pol, xxfile_bases))\n",
    "ocmetfiles = map(lambda x: x+'.omni_metrics.json', ocfiles)\n",
    "\n",
    "fcfiles = []\n",
    "for i, ocf in enumerate(ocfiles):\n",
    "    fcfxx = ocf.split('/')[-1].split('.')\n",
    "    fcfyy = ocf.split('/')[-1].split('.')\n",
    "    fcfxx[5] = 'first'\n",
    "    fcfyy[5] = 'first'\n",
    "    fcfxx[2] += '.xx'\n",
    "    fcfyy[2] += '.yy'\n",
    "    fcfiles.append((os.path.join(data_path, '.'.join(fcfyy)), os.path.join(data_path, '.'.join(fcfxx))))"
   ]
  },
  {
   "cell_type": "code",
   "execution_count": null,
   "metadata": {
    "collapsed": true
   },
   "outputs": [],
   "source": [
    "# get data\n",
    "gain_xx = OrderedDict([(a, []) for a in ants])\n",
    "gain_yy = OrderedDict([(a, []) for a in ants])\n",
    "octimes = []\n",
    "for i, f in enumerate(ocfiles):\n",
    "    if os.path.isfile(f):\n",
    "        octimes.append(float('.'.join(f.split('/')[-1].split('.')[1:3])))\n",
    "        OM = hqm.omnical_metrics.OmniCal_Metrics(f)\n",
    "        OM.load_firstcal_gains(fcfiles[i])\n",
    "        for a in ants:\n",
    "            if a in OM.ant_array:\n",
    "                antindex = OM.ant_array.tolist().index(a)\n",
    "                xxindex = OM.pols.tolist().index('XX')\n",
    "                gain_xx[a].append(OM.gain_diff[antindex, 0, :, xxindex])\n",
    "                yyindex = OM.pols.tolist().index('YY')\n",
    "                gain_yy[a].append(OM.gain_diff[antindex, 0, :, yyindex])\n",
    "            else:\n",
    "                gain_xx[a].append(np.zeros(OM.Nfreqs)*np.nan)\n",
    "                gain_yy[a].append(np.zeros(OM.Nfreqs)*np.nan)\n",
    "\n",
    "N_ocfiles = len(octimes)"
   ]
  },
  {
   "cell_type": "markdown",
   "metadata": {},
   "source": [
    "### XX Antenna Gain Phase Solutions"
   ]
  },
  {
   "cell_type": "code",
   "execution_count": null,
   "metadata": {},
   "outputs": [],
   "source": [
    "Nside = int(np.ceil(np.sqrt(N_ocfiles)))\n",
    "Yside = int(np.ceil(float(N_ocfiles)/Nside))\n",
    "\n",
    "fig, axes = plt.subplots(Yside, Nside, figsize=(16,16), dpi=75)\n",
    "fig.subplots_adjust(wspace=0.05, hspace=0.05)\n",
    "fig.suptitle(\"omnical gain phase - firstcal gain phase solutions for East pol\", fontsize=14)\n",
    "fig.tight_layout(rect=(0, 0, 1, 0.95))\n",
    "\n",
    "xlim = (-10, 1034)\n",
    "ylim = (-np.pi, np.pi)\n",
    "k = 0\n",
    "for i in range(Yside):\n",
    "    for j in range(Nside):\n",
    "        ax = axes[i,j]\n",
    "        ax.set_xlim(xlim)\n",
    "        ax.set_ylim(ylim)\n",
    "        if k < N_ocfiles:\n",
    "            p = [ax.plot(np.angle(gain_xx[a][k]), alpha=0.7, ls='', ms=0.3, marker='o') for a in ants]\n",
    "            ax.grid(True)\n",
    "            ax.set_title(str(octimes[k]), fontsize=10)\n",
    "        else:\n",
    "            ax.axis('off')\n",
    "        if j != 0:\n",
    "            ax.set_yticklabels([])\n",
    "        else:\n",
    "            [t.set_fontsize(10) for t in ax.get_yticklabels()]\n",
    "            ax.set_ylabel('gain phase [radians]', fontsize=10)\n",
    "        if i != Yside-1:\n",
    "            ax.set_xticklabels([])\n",
    "        else:\n",
    "            [t.set_fontsize(10) for t in ax.get_xticklabels()]\n",
    "            ax.set_xlabel('freq channel', fontsize=10)\n",
    "        k += 1\n",
    "        \n",
    "ax = fig.add_axes([.1, -.12, .8, .1])\n",
    "p = np.concatenate([ax.plot([0], [0], marker='o', ls='') for a in ants])\n",
    "ax.axis('off')\n",
    "ax.legend(p, ants, ncol=len(ants)//4)\n",
    "_ = [d.remove() for d in p]"
   ]
  },
  {
   "cell_type": "markdown",
   "metadata": {},
   "source": [
    "### XX Antenna Gain Amp Solutions"
   ]
  },
  {
   "cell_type": "code",
   "execution_count": null,
   "metadata": {},
   "outputs": [],
   "source": [
    "Nside = int(np.ceil(np.sqrt(N_ocfiles)))\n",
    "Yside = int(np.ceil(float(N_ocfiles)/Nside))\n",
    "\n",
    "fig, axes = plt.subplots(Yside, Nside, figsize=(16,16), dpi=75)\n",
    "fig.subplots_adjust(wspace=0.05, hspace=0.05)\n",
    "fig.suptitle(\"omnical gain amp solutions for East pol\", fontsize=14)\n",
    "fig.tight_layout(rect=(0, 0, 1, 0.95))\n",
    "\n",
    "xlim = (-10, 1034)\n",
    "ylim = (0, 2)\n",
    "k = 0\n",
    "for i in range(Yside):\n",
    "    for j in range(Nside):\n",
    "        ax = axes[i,j]\n",
    "        ax.set_xlim(xlim)\n",
    "        ax.set_ylim(ylim)\n",
    "        if k < N_ocfiles:\n",
    "            p = [ax.plot(np.abs(gain_xx[a][k]), alpha=0.7, ls='', ms=0.3, marker='o') for a in ants]\n",
    "            ax.grid(True)\n",
    "            ax.set_title(str(octimes[k]), fontsize=10)\n",
    "        else:\n",
    "            ax.axis('off')\n",
    "        if j != 0:\n",
    "            ax.set_yticklabels([])\n",
    "        else:\n",
    "            [t.set_fontsize(10) for t in ax.get_yticklabels()]\n",
    "            ax.set_ylabel('gain amplitude', fontsize=10)\n",
    "        if i != Yside-1:\n",
    "            ax.set_xticklabels([])\n",
    "        else:\n",
    "            [t.set_fontsize(10) for t in ax.get_xticklabels()]\n",
    "            ax.set_xlabel('freq channel', fontsize=10)\n",
    "        k += 1\n",
    "        \n",
    "ax = fig.add_axes([.1, -.12, .8, .1])\n",
    "p = np.concatenate([ax.plot([0], [0], marker='o', ls='') for a in ants])\n",
    "ax.axis('off')\n",
    "ax.legend(p, ants, ncol=len(ants)//4)\n",
    "_ = [d.remove() for d in p]"
   ]
  },
  {
   "cell_type": "markdown",
   "metadata": {},
   "source": [
    "### YY Antenna Gain Phase Solutions"
   ]
  },
  {
   "cell_type": "code",
   "execution_count": null,
   "metadata": {},
   "outputs": [],
   "source": [
    "Nside = int(np.ceil(np.sqrt(N_ocfiles)))\n",
    "Yside = int(np.ceil(float(N_ocfiles)/Nside))\n",
    "\n",
    "fig, axes = plt.subplots(Yside, Nside, figsize=(16,16), dpi=75)\n",
    "fig.subplots_adjust(wspace=0.05, hspace=0.05)\n",
    "fig.suptitle(\"omnical gain phase - firstcal gain phase solutions for North pol\", fontsize=14)\n",
    "fig.tight_layout(rect=(0, 0, 1, 0.95))\n",
    "\n",
    "xlim = (-10, 1034)\n",
    "ylim = (-np.pi, np.pi)\n",
    "k = 0\n",
    "for i in range(Yside):\n",
    "    for j in range(Nside):\n",
    "        ax = axes[i,j]\n",
    "        ax.set_xlim(xlim)\n",
    "        ax.set_ylim(ylim)\n",
    "        if k < N_ocfiles:\n",
    "            p = [ax.plot(np.angle(gain_yy[a][k]), alpha=0.7, ls='', ms=0.3, marker='o') for a in ants]\n",
    "            ax.grid(True)\n",
    "            ax.set_title(str(octimes[k]), fontsize=10)\n",
    "        else:\n",
    "            ax.axis('off')\n",
    "        if j != 0:\n",
    "            ax.set_yticklabels([])\n",
    "        else:\n",
    "            [t.set_fontsize(8) for t in ax.get_yticklabels()]\n",
    "            ax.set_ylabel('gain phase [radians]', fontsize=10)\n",
    "        if i != Yside-1:\n",
    "            ax.set_xticklabels([])\n",
    "        else:\n",
    "            [t.set_fontsize(8) for t in ax.get_xticklabels()]\n",
    "            [t.set_rotation(25) for t in ax.get_xticklabels()]\n",
    "            ax.set_xlabel('freq channel', fontsize=10)\n",
    "        k += 1\n",
    "        \n",
    "ax = fig.add_axes([.1, -.12, .8, .1])\n",
    "p = np.concatenate([ax.plot([0], [0], marker='o', ls='') for a in ants])\n",
    "ax.axis('off')\n",
    "ax.legend(p, ants, ncol=len(ants)//4)\n",
    "_ = [d.remove() for d in p]"
   ]
  },
  {
   "cell_type": "markdown",
   "metadata": {},
   "source": [
    "### YY Omnical Gain Amp Solutions"
   ]
  },
  {
   "cell_type": "code",
   "execution_count": null,
   "metadata": {},
   "outputs": [],
   "source": [
    "Nside = int(np.ceil(np.sqrt(N_ocfiles)))\n",
    "Yside = int(np.ceil(float(N_ocfiles)/Nside))\n",
    "\n",
    "fig, axes = plt.subplots(Yside, Nside, figsize=(16,16), dpi=75)\n",
    "fig.subplots_adjust(wspace=0.05, hspace=0.05)\n",
    "fig.suptitle(\"omnical gain amp solutions for North pol\", fontsize=14)\n",
    "fig.tight_layout(rect=(0, 0, 1, 0.95))\n",
    "\n",
    "xlim = (-10, 1034)\n",
    "ylim = (0, 2)\n",
    "k = 0\n",
    "for i in range(Yside):\n",
    "    for j in range(Nside):\n",
    "        ax = axes[i,j]\n",
    "        ax.set_xlim(xlim)\n",
    "        ax.set_ylim(ylim)\n",
    "        if k < N_ocfiles:\n",
    "            p = [ax.plot(np.abs(gain_yy[a][k]), alpha=0.7, ls='', ms=0.3, marker='o') for a in ants]\n",
    "            ax.grid(True)\n",
    "            ax.set_title(str(octimes[k]), fontsize=10)\n",
    "        else:\n",
    "            ax.axis('off')\n",
    "        if j != 0:\n",
    "            ax.set_yticklabels([])\n",
    "        else:\n",
    "            [t.set_fontsize(10) for t in ax.get_yticklabels()]\n",
    "            ax.set_ylabel('gain amp', fontsize=10)\n",
    "        if i != Yside-1:\n",
    "            ax.set_xticklabels([])\n",
    "        else:\n",
    "            [t.set_fontsize(10) for t in ax.get_xticklabels()]\n",
    "            ax.set_xlabel('freq channel', fontsize=10)\n",
    "        k += 1\n",
    "        \n",
    "ax = fig.add_axes([.1, -.12, .8, .1])\n",
    "p = np.concatenate([ax.plot([0], [0], marker='o', ls='') for a in ants])\n",
    "ax.axis('off')\n",
    "ax.legend(p, ants, ncol=len(ants)//4)\n",
    "_ = [d.remove() for d in p]"
   ]
  },
  {
   "cell_type": "markdown",
   "metadata": {},
   "source": [
    "## Plot omni-applied visibilities w/ RFI flags"
   ]
  },
  {
   "cell_type": "code",
   "execution_count": null,
   "metadata": {
    "collapsed": true
   },
   "outputs": [],
   "source": [
    "# load visibility data\n",
    "uvd_xx = UVData()\n",
    "uvd_xx.read_miriad(xxfile+'OR')\n",
    "uvd_yy = UVData()\n",
    "uvd_yy.read_miriad(yyfile+'OR')\n",
    "uvd_ants = uvd_xx.antenna_numbers.tolist()\n",
    "uvd_pos = uvd_xx.antenna_positions"
   ]
  },
  {
   "cell_type": "code",
   "execution_count": null,
   "metadata": {
    "collapsed": true
   },
   "outputs": [],
   "source": [
    "# get shortest E-W baseline group\n",
    "bs_antnum_diff = np.array(map(lambda x: np.median(np.abs(map(lambda y: y[1] - y[0], x))), red_bls))\n",
    "bl_group = np.concatenate(np.array(red_bls)[np.where(bs_antnum_diff < 1.5)[0]])\n",
    "Nbls = len(bl_group)\n",
    "\n",
    "# get reference bl\n",
    "for bl in bl_group:\n",
    "    if bl[0] in badants or bl[1] in badants:\n",
    "        continue\n",
    "    else:\n",
    "        refbl = bl\n",
    "        break"
   ]
  },
  {
   "cell_type": "markdown",
   "metadata": {},
   "source": [
    "### Amplitudes and Phases for XX"
   ]
  },
  {
   "cell_type": "code",
   "execution_count": null,
   "metadata": {
    "scrolled": false
   },
   "outputs": [],
   "source": [
    "Nside = 3\n",
    "Yside = int(np.ceil(float(Nbls)/Nside))\n",
    "\n",
    "fig, axes = plt.subplots(Yside, Nside, figsize=(14, 14*float(Yside)/Nside), dpi=75)\n",
    "fig.subplots_adjust(wspace=0.1, hspace=0.3)\n",
    "fig.suptitle(\"Omnical Amplitude Waterfalls for East Pol & JD = {}\".format(file_jd), fontsize=14)\n",
    "fig.tight_layout(rect=(0, 0, 1, 0.95))\n",
    "\n",
    "k = 0\n",
    "for i in range(Yside):\n",
    "    for j in range(Nside):\n",
    "        ax = axes[i, j]\n",
    "        if k < Nbls:\n",
    "            bl = bl_group[k]\n",
    "            ax.matshow(np.log10(np.abs(uvd_xx.get_data(bl))), vmin=-3, vmax=2, aspect='auto')\n",
    "            rfi_flags = uvd_xx.get_flags(bl).copy()\n",
    "            rfi_flags = np.ma.masked_where(~rfi_flags, rfi_flags)\n",
    "            ax.matshow(rfi_flags, cmap='bone_r', aspect='auto')\n",
    "            ax.xaxis.set_ticks_position('bottom')\n",
    "            ax.set_title(\"{}\".format(bl_group[k]), fontsize=12, y=1.01)\n",
    "        else:\n",
    "            ax.axis('off')\n",
    "            \n",
    "        if j != 0:\n",
    "            ax.set_yticklabels([])\n",
    "        else:\n",
    "            [t.set_fontsize(10) for t in ax.get_yticklabels()]\n",
    "            ax.set_ylabel('time integrations', fontsize=10)\n",
    "        if i != Yside-1:\n",
    "            ax.set_xticklabels([])\n",
    "        else:\n",
    "            [t.set_fontsize(10) for t in ax.get_xticklabels()]\n",
    "            ax.set_xlabel('freq channel', fontsize=10)\n",
    "            \n",
    "        k += 1"
   ]
  },
  {
   "cell_type": "code",
   "execution_count": null,
   "metadata": {
    "scrolled": false
   },
   "outputs": [],
   "source": [
    "Nside = 3\n",
    "Yside = int(np.ceil(float(Nbls)/Nside))\n",
    "\n",
    "fig, axes = plt.subplots(Yside, Nside, figsize=(14, 14*float(Yside)/Nside), dpi=75)\n",
    "fig.subplots_adjust(wspace=0.1, hspace=0.3)\n",
    "fig.suptitle(\"Omnical Phase Waterfalls for East Pol & JD = {}\".format(file_jd), fontsize=14)\n",
    "fig.tight_layout(rect=(0, 0, 1, 0.95))\n",
    "\n",
    "k = 0\n",
    "for i in range(Yside):\n",
    "    for j in range(Nside):\n",
    "        ax = axes[i, j]\n",
    "        if k < Nbls:\n",
    "            bl = bl_group[k]\n",
    "            ax.matshow(np.angle(uvd_xx.get_data(bl)), vmin=-np.pi, vmax=np.pi, aspect='auto')\n",
    "            rfi_flags = uvd_xx.get_flags(bl).copy()\n",
    "            rfi_flags = np.ma.masked_where(~rfi_flags, rfi_flags)\n",
    "            ax.matshow(rfi_flags, cmap='bone_r', aspect='auto')\n",
    "            ax.xaxis.set_ticks_position('bottom')\n",
    "            ax.set_title(\"{}\".format(bl_group[k]), fontsize=12, y=1.01)\n",
    "        else:\n",
    "            ax.axis('off')\n",
    "            \n",
    "        if j != 0:\n",
    "            ax.set_yticklabels([])\n",
    "        else:\n",
    "            [t.set_fontsize(10) for t in ax.get_yticklabels()]\n",
    "            ax.set_ylabel('time integrations', fontsize=10)\n",
    "        if i != Yside-1:\n",
    "            ax.set_xticklabels([])\n",
    "        else:\n",
    "            [t.set_fontsize(10) for t in ax.get_xticklabels()]\n",
    "            ax.set_xlabel('freq channel', fontsize=10)\n",
    "            \n",
    "        k += 1"
   ]
  },
  {
   "cell_type": "markdown",
   "metadata": {},
   "source": [
    "### Amplitude and Phases for YY"
   ]
  },
  {
   "cell_type": "code",
   "execution_count": null,
   "metadata": {
    "scrolled": false
   },
   "outputs": [],
   "source": [
    "Nside = 3\n",
    "Yside = int(np.ceil(float(Nbls)/Nside))\n",
    "\n",
    "fig, axes = plt.subplots(Yside, Nside, figsize=(14, 14*float(Yside)/Nside), dpi=75)\n",
    "fig.subplots_adjust(wspace=0.1, hspace=0.3)\n",
    "fig.suptitle(\"Omnical Amplitude Waterfalls for North Pol & JD = {}\".format(file_jd), fontsize=14)\n",
    "fig.tight_layout(rect=(0, 0, 1, 0.95))\n",
    "\n",
    "k = 0\n",
    "for i in range(Yside):\n",
    "    for j in range(Nside):\n",
    "        ax = axes[i, j]\n",
    "        if k < Nbls:\n",
    "            bl = bl_group[k]\n",
    "            ax.matshow(np.log10(np.abs(uvd_yy.get_data(bl))), vmin=-3, vmax=2, aspect='auto')\n",
    "            rfi_flags = uvd_xx.get_flags(bl).copy()\n",
    "            rfi_flags = np.ma.masked_where(~rfi_flags, rfi_flags)\n",
    "            ax.matshow(rfi_flags, cmap='bone_r', aspect='auto')\n",
    "            ax.xaxis.set_ticks_position('bottom')\n",
    "            ax.set_title(\"{}\".format(bl_group[k]), fontsize=12, y=1.01)\n",
    "        else:\n",
    "            ax.axis('off')\n",
    "            \n",
    "        if j != 0:\n",
    "            ax.set_yticklabels([])\n",
    "        else:\n",
    "            [t.set_fontsize(10) for t in ax.get_yticklabels()]\n",
    "            ax.set_ylabel('time integrations', fontsize=10)\n",
    "        if i != Yside-1:\n",
    "            ax.set_xticklabels([])\n",
    "        else:\n",
    "            [t.set_fontsize(10) for t in ax.get_xticklabels()]\n",
    "            ax.set_xlabel('freq channel', fontsize=10)\n",
    "            \n",
    "        k += 1"
   ]
  },
  {
   "cell_type": "code",
   "execution_count": null,
   "metadata": {
    "scrolled": false
   },
   "outputs": [],
   "source": [
    "Nside = 3\n",
    "Yside = int(np.ceil(float(Nbls)/Nside))\n",
    "\n",
    "fig, axes = plt.subplots(Yside, Nside, figsize=(14, 14*float(Yside)/Nside), dpi=75)\n",
    "fig.subplots_adjust(wspace=0.1, hspace=0.3)\n",
    "fig.suptitle(\"Omnical Phase Waterfalls for North Pol & JD = {}\".format(file_jd), fontsize=14)\n",
    "fig.tight_layout(rect=(0, 0, 1, 0.95))\n",
    "\n",
    "k = 0\n",
    "for i in range(Yside):\n",
    "    for j in range(Nside):\n",
    "        ax = axes[i, j]\n",
    "        if k < Nbls:\n",
    "            bl = bl_group[k]\n",
    "            ax.matshow(np.angle(uvd_yy.get_data(bl)), vmin=-np.pi, vmax=np.pi, aspect='auto')\n",
    "            rfi_flags = uvd_xx.get_flags(bl).copy()\n",
    "            rfi_flags = np.ma.masked_where(~rfi_flags, rfi_flags)\n",
    "            ax.matshow(rfi_flags, cmap='bone_r', aspect='auto')\n",
    "            ax.xaxis.set_ticks_position('bottom')\n",
    "            ax.set_title(\"{}\".format(bl_group[k]), fontsize=12, y=1.01)\n",
    "        else:\n",
    "            ax.axis('off')\n",
    "            \n",
    "        if j != 0:\n",
    "            ax.set_yticklabels([])\n",
    "        else:\n",
    "            [t.set_fontsize(10) for t in ax.get_yticklabels()]\n",
    "            ax.set_ylabel('time integrations', fontsize=10)\n",
    "        if i != Yside-1:\n",
    "            ax.set_xticklabels([])\n",
    "        else:\n",
    "            [t.set_fontsize(10) for t in ax.get_xticklabels()]\n",
    "            ax.set_xlabel('freq channel', fontsize=10)\n",
    "            \n",
    "        k += 1"
   ]
  },
  {
   "cell_type": "markdown",
   "metadata": {},
   "source": [
    "## Omnical Metrics across the observation"
   ]
  },
  {
   "cell_type": "code",
   "execution_count": null,
   "metadata": {
    "collapsed": true
   },
   "outputs": [],
   "source": [
    "# append chisq metric across entire night\n",
    "full_mets_xx = OrderedDict({'times':[],\n",
    "                            'ant_phs_std_per_time':OrderedDict(map(lambda a: (a, []), ants)),\n",
    "                            'chisq_avg':[]})\n",
    "full_mets_yy = OrderedDict({'times':[],\n",
    "                            'ant_phs_std_per_time':OrderedDict(map(lambda a: (a, []), ants)),\n",
    "                            'chisq_avg':[]})\n",
    "\n",
    "for i, xxf in enumerate(xxfile_bases):\n",
    "    omnifile = xxf.split('.')\n",
    "    omnifile.pop(3)\n",
    "    omnifile = os.path.join(data_path, '.'.join(omnifile)+'.omni.calfits.omni_metrics.json')\n",
    "    if os.path.isfile(omnifile) is False:\n",
    "        continue\n",
    "    omni_mets = hqm.omnical_metrics.load_omnical_metrics(omnifile)\n",
    "    mets_xx = omni_mets['XX']\n",
    "    mets_yy = omni_mets['YY']\n",
    "    for a in ants:\n",
    "        if a in mets_xx['ant_array']:\n",
    "            full_mets_xx['ant_phs_std_per_time'][a].extend(mets_xx['ant_phs_std_per_time'][a])\n",
    "        else:\n",
    "            full_mets_xx['ant_phs_std_per_time'][a].extend(np.zeros(mets_xx['Ntimes']))\n",
    "        if a in mets_yy['ant_array']:\n",
    "            full_mets_yy['ant_phs_std_per_time'][a].extend(mets_yy['ant_phs_std_per_time'][a])\n",
    "        else:\n",
    "            full_mets_yy['ant_phs_std_per_time'][a].extend(np.zeros(mets_yy['Ntimes']))\n",
    "\n",
    "    full_mets_xx['times'].extend(mets_xx['times'])\n",
    "    full_mets_yy['times'].extend(mets_yy['times'])\n",
    "    full_mets_xx['chisq_avg'].extend(mets_xx['chisq_avg'])\n",
    "    full_mets_yy['chisq_avg'].extend(mets_yy['chisq_avg'])"
   ]
  },
  {
   "cell_type": "markdown",
   "metadata": {},
   "source": [
    "### standard deviation of XX & YY gain phases over observation"
   ]
  },
  {
   "cell_type": "code",
   "execution_count": null,
   "metadata": {},
   "outputs": [],
   "source": [
    "# plot each antenna gain phase stand dev over time\n",
    "data = np.array(full_mets_xx['ant_phs_std_per_time'].values()).T\n",
    "\n",
    "# figure\n",
    "fig, ax = plt.subplots(1, figsize=(12,14), dpi=75)\n",
    "\n",
    "# plotting\n",
    "ymean = np.median(mets_xx['ant_phs_std'].values())\n",
    "ysig = np.std(mets_xx['ant_phs_std'].values())\n",
    "cax = ax.matshow(data, aspect='auto', cmap='Spectral_r', vmin=0, vmax=1.0,\n",
    "                 extent=[0, Nants, full_mets_xx['times'][-1], full_mets_xx['times'][0]])\n",
    "\n",
    "[t.set_rotation(20) for t in ax.get_xticklabels()]\n",
    "[t.set_size(12) for t in ax.get_xticklabels()]\n",
    "[t.set_rotation(20) for t in ax.get_yticklabels()]\n",
    "[t.set_size(12) for t in ax.get_yticklabels()]\n",
    "\n",
    "# axes\n",
    "ax.xaxis.set_ticks_position('top')\n",
    "ax.set_xticks(np.arange(Nants)+0.5)\n",
    "ax.tick_params(size=8)\n",
    "ax.set_xticklabels(ants)\n",
    "ax.yaxis.set_major_formatter(FormatStrFormatter('%.3f'))\n",
    "ax.set_ylabel(\"time\", fontsize=14)\n",
    "\n",
    "ax.set_title(\"standard dev of firstcal-subtracted gain phase for East pol\", fontsize=14)\n",
    "cbar = fig.colorbar(cax, fraction=0.05)\n",
    "cbar.set_label('gain phase std [radians]', fontsize=14)\n",
    "cbar.ax.tick_params(labelsize=12)"
   ]
  },
  {
   "cell_type": "code",
   "execution_count": null,
   "metadata": {},
   "outputs": [],
   "source": [
    "# plot each antenna gain phase stand dev over time\n",
    "data = np.array(full_mets_yy['ant_phs_std_per_time'].values()).T\n",
    "\n",
    "# figure\n",
    "fig, ax = plt.subplots(1, figsize=(12,14), dpi=75)\n",
    "\n",
    "# plotting\n",
    "ymean = np.median(mets_yy['ant_phs_std'].values())\n",
    "ysig = np.std(mets_yy['ant_phs_std'].values())\n",
    "cax = ax.matshow(data, aspect='auto', cmap='Spectral_r', vmin=0, vmax=1.0,\n",
    "                 extent=[0, Nants, full_mets_yy['times'][-1], full_mets_yy['times'][0]])\n",
    "\n",
    "[t.set_rotation(20) for t in ax.get_xticklabels()]\n",
    "[t.set_size(12) for t in ax.get_xticklabels()]\n",
    "[t.set_rotation(20) for t in ax.get_yticklabels()]\n",
    "[t.set_size(12) for t in ax.get_yticklabels()]\n",
    "\n",
    "# axes\n",
    "ax.xaxis.set_ticks_position('top')\n",
    "ax.set_xticks(np.arange(Nants)+0.5)\n",
    "ax.tick_params(size=8)\n",
    "ax.set_xticklabels(ants)\n",
    "ax.yaxis.set_major_formatter(FormatStrFormatter('%.3f'))\n",
    "ax.set_ylabel(\"time\", fontsize=14)\n",
    "\n",
    "ax.set_title(\"standard dev of firstcal-subtracted gain phase for North pol\", fontsize=14)\n",
    "cbar = fig.colorbar(cax, fraction=0.05)\n",
    "cbar.set_label('gain phase std [radians]', fontsize=14)\n",
    "cbar.ax.tick_params(labelsize=12)"
   ]
  },
  {
   "cell_type": "markdown",
   "metadata": {
    "collapsed": true
   },
   "source": [
    "### Plot averaged omnical Chi-Square over entire observation "
   ]
  },
  {
   "cell_type": "code",
   "execution_count": null,
   "metadata": {},
   "outputs": [],
   "source": [
    "# figure\n",
    "fig, ax = plt.subplots(1, figsize=(14,8), dpi=75)\n",
    "ax.grid(True)\n",
    "\n",
    "# plot\n",
    "p1, = ax.plot(full_mets_xx['times']%jd_start, full_mets_xx['chisq_avg'], color='steelblue', alpha=0.5, ls='', ms=5, marker='o')\n",
    "p2, = ax.plot(full_mets_yy['times']%jd_start, full_mets_yy['chisq_avg'], color='darkorange', alpha=0.5, ls='', ms=5, marker='o')\n",
    "ax.legend([p1, p2], ['East', 'North'], fontsize=14)\n",
    "\n",
    "# axes\n",
    "ax.set_ylim(0, None)\n",
    "ax.xaxis.set_major_formatter(FormatStrFormatter('%.4f'))\n",
    "[t.set_rotation(20) for t in ax.get_xticklabels()]\n",
    "[t.set_size(12) for t in ax.get_xticklabels()]\n",
    "[t.set_rotation(20) for t in ax.get_yticklabels()]\n",
    "[t.set_size(12) for t in ax.get_yticklabels()]\n",
    "ax.tick_params(size=8)\n",
    "ax.set_xlabel('decimal of JD = {}'.format(jd_start), fontsize=16)\n",
    "ax.set_ylabel('average chi-square', fontsize=16)"
   ]
  },
  {
   "cell_type": "markdown",
   "metadata": {
    "collapsed": true
   },
   "source": [
    "### plot RFI summary info over observation"
   ]
  },
  {
   "cell_type": "code",
   "execution_count": null,
   "metadata": {
    "collapsed": true
   },
   "outputs": [],
   "source": [
    "flags_xx_files = map(lambda x: x + 'O.flag_summary.npz', xxfiles)\n",
    "flags_yy_files = map(lambda x: x + 'O.flag_summary.npz', yyfiles)\n",
    "\n",
    "fmean_xx = []\n",
    "fstd_xx = []\n",
    "times_xx = []\n",
    "\n",
    "fmean_yy = []\n",
    "fstd_yy = []\n",
    "times_yy = []\n",
    "\n",
    "for i, fxx in enumerate(flags_xx_files):\n",
    "    if os.path.isfile(fxx):\n",
    "        arr = np.load(fxx)\n",
    "        fmean_xx.extend(arr['fmean'].squeeze())\n",
    "        fstd_xx.extend(arr['fstd'].squeeze())\n",
    "        times_xx.extend(arr['times'])\n",
    "for i, fyy in enumerate(flags_yy_files):\n",
    "    if os.path.isfile(fyy):\n",
    "        arr = np.load(fyy)\n",
    "        fmean_yy.extend(arr['fmean'].squeeze())\n",
    "        fstd_yy.extend(arr['fstd'].squeeze())\n",
    "        times_yy.extend(arr['times'])\n",
    "        \n",
    "fmean_xx = np.array(fmean_xx)\n",
    "fmean_yy = np.array(fmean_yy)\n",
    "times_xx = np.array(times_xx)\n",
    "times_yy = np.array(times_yy)\n",
    "fstd_xx = np.array(fstd_xx)\n",
    "fstd_yy = np.array(fstd_yy)"
   ]
  },
  {
   "cell_type": "code",
   "execution_count": null,
   "metadata": {},
   "outputs": [],
   "source": [
    "# figure\n",
    "fig, axes = plt.subplots(2, 1, figsize=(14,14), dpi=75)\n",
    "fig.subplots_adjust(hspace=0.3)\n",
    "\n",
    "# fmean\n",
    "ax = axes[0]\n",
    "ax.grid(True)\n",
    "\n",
    "# plot\n",
    "p1, = ax.plot(times_xx % jd_start, fmean_xx, color='steelblue', alpha=0.5, ls='', ms=3, marker='o')\n",
    "p2, = ax.plot(times_yy % jd_start, fmean_yy, color='darkorange', alpha=0.5, ls='', ms=3, marker='o')\n",
    "ax.legend([p1, p2], ['East', 'North'], fontsize=14)\n",
    "\n",
    "# axes\n",
    "ax.xaxis.set_major_formatter(FormatStrFormatter('%.4f'))\n",
    "[t.set_rotation(20) for t in ax.get_xticklabels()]\n",
    "[t.set_size(12) for t in ax.get_xticklabels()]\n",
    "[t.set_rotation(20) for t in ax.get_yticklabels()]\n",
    "[t.set_size(12) for t in ax.get_yticklabels()]\n",
    "ax.tick_params(size=8)\n",
    "ax.set_xlabel('decimal of JD = {}'.format(jd_start), fontsize=16)\n",
    "ax.set_ylabel(\"'fmean' flag summary\", fontsize=16)\n",
    "\n",
    "# fstd\n",
    "ax = axes[1]\n",
    "ax.grid(True)\n",
    "\n",
    "# plot\n",
    "p1, = ax.plot(times_xx % jd_start, fstd_xx, color='steelblue', alpha=0.5, ls='', ms=3, marker='o')\n",
    "p2, = ax.plot(times_yy % jd_start, fstd_yy, color='darkorange', alpha=0.5, ls='', ms=3, marker='o')\n",
    "ax.legend([p1, p2], ['East', 'North'], fontsize=14)\n",
    "\n",
    "# axes\n",
    "ax.xaxis.set_major_formatter(FormatStrFormatter('%.4f'))\n",
    "[t.set_rotation(20) for t in ax.get_xticklabels()]\n",
    "[t.set_size(12) for t in ax.get_xticklabels()]\n",
    "[t.set_rotation(20) for t in ax.get_yticklabels()]\n",
    "[t.set_size(12) for t in ax.get_yticklabels()]\n",
    "ax.tick_params(size=8)\n",
    "ax.set_xlabel('decimal of JD = {}'.format(jd_start), fontsize=16)\n",
    "ax.set_ylabel(\"'fstd' flag summary\", fontsize=16)"
   ]
  },
  {
   "cell_type": "code",
   "execution_count": null,
   "metadata": {
    "collapsed": true
   },
   "outputs": [],
   "source": []
  },
  {
   "cell_type": "code",
   "execution_count": null,
   "metadata": {
    "collapsed": true
   },
   "outputs": [],
   "source": []
  }
 ],
 "metadata": {
  "kernelspec": {
   "display_name": "Python 2",
   "language": "python",
   "name": "python2"
  },
  "language_info": {
   "codemirror_mode": {
    "name": "ipython",
    "version": 2
   },
   "file_extension": ".py",
   "mimetype": "text/x-python",
   "name": "python",
   "nbconvert_exporter": "python",
   "pygments_lexer": "ipython2",
   "version": "2.7.13"
  }
 },
 "nbformat": 4,
 "nbformat_minor": 2
}
