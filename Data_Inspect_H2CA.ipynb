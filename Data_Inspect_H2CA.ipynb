{
 "cells": [
  {
   "cell_type": "markdown",
   "metadata": {},
   "source": [
    "# First look at H2C Commissioning Data\n",
    "This notebook will be run daily to give us a glance at the early commissioning data as it arrives at NRAO. The goal is to run some of our analysis steps and provide useful plots."
   ]
  },
  {
   "cell_type": "code",
   "execution_count": 1,
   "metadata": {},
   "outputs": [],
   "source": [
    "%matplotlib notebook\n",
    "import matplotlib.pyplot as plt\n",
    "from matplotlib.ticker import FormatStrFormatter\n",
    "import matplotlib.patches as mpatches\n",
    "import numpy as np\n",
    "import hera_qm as hqm\n",
    "import hera_cal as hc\n",
    "from pyuvdata import UVCal, UVData\n",
    "import os\n",
    "import sys\n",
    "import glob\n",
    "import copy\n",
    "import re\n",
    "import uvtools as uvt\n",
    "from astropy.time import Time\n",
    "from collections import OrderedDict\n",
    "from matplotlib import colors"
   ]
  },
  {
   "cell_type": "markdown",
   "metadata": {},
   "source": [
    "## Set up Env variables and get files"
   ]
  },
  {
   "cell_type": "code",
   "execution_count": 2,
   "metadata": {},
   "outputs": [],
   "source": [
    "# get data location\n",
    "# Uncomment this line and delete the next when ready for the real deal\n",
    "# data_path = os.environ['DATA_PATH']\n",
    "data_path = '/users/abeardsl/lustre/2458042/'  # Subset of H1C IDR1 raw data files\n",
    "\n",
    "# get xx and yy files\n",
    "dfiles = sorted(glob.glob(\"{0}/zen.???????.?????.HH.uvh5\".format(data_path)))\n",
    "Nfiles = len(dfiles)\n",
    "\n",
    "dfile_bases = map(os.path.basename, dfiles)\n",
    "dfile_bases = map(hqm.utils.strip_extension, dfile_bases)\n",
    "\n",
    "dfile_times = np.array(map(lambda x: '.'.join(os.path.basename(x).split('.')[1:3]), dfiles), np.float)\n",
    "\n",
    "# choose one for single-file plots\n",
    "file_index = np.min([len(dfiles)-1, 20])\n",
    "dfile = dfiles[file_index]\n",
    "dfile_base = dfile_bases[file_index]\n",
    "file_jd = dfile_times[file_index]"
   ]
  },
  {
   "cell_type": "code",
   "execution_count": 3,
   "metadata": {},
   "outputs": [
    {
     "ename": "AttributeError",
     "evalue": "'module' object has no attribute 'omni'",
     "output_type": "error",
     "traceback": [
      "\u001b[0;31m---------------------------------------------------------------------------\u001b[0m",
      "\u001b[0;31mAttributeError\u001b[0m                            Traceback (most recent call last)",
      "\u001b[0;32m<ipython-input-3-65804bb9bb24>\u001b[0m in \u001b[0;36m<module>\u001b[0;34m()\u001b[0m\n\u001b[1;32m     13\u001b[0m \u001b[0;31m# get redundant info\u001b[0m\u001b[0;34m\u001b[0m\u001b[0;34m\u001b[0m\u001b[0m\n\u001b[1;32m     14\u001b[0m \u001b[0maa\u001b[0m \u001b[0;34m=\u001b[0m \u001b[0mhc\u001b[0m\u001b[0;34m.\u001b[0m\u001b[0mutils\u001b[0m\u001b[0;34m.\u001b[0m\u001b[0mget_aa_from_uv\u001b[0m\u001b[0;34m(\u001b[0m\u001b[0muvd\u001b[0m\u001b[0;34m)\u001b[0m\u001b[0;34m\u001b[0m\u001b[0m\n\u001b[0;32m---> 15\u001b[0;31m \u001b[0minfo\u001b[0m \u001b[0;34m=\u001b[0m \u001b[0mhc\u001b[0m\u001b[0;34m.\u001b[0m\u001b[0momni\u001b[0m\u001b[0;34m.\u001b[0m\u001b[0maa_to_info\u001b[0m\u001b[0;34m(\u001b[0m\u001b[0maa\u001b[0m\u001b[0;34m)\u001b[0m\u001b[0;34m\u001b[0m\u001b[0m\n\u001b[0m\u001b[1;32m     16\u001b[0m \u001b[0;32mprint\u001b[0m\u001b[0;34m(\u001b[0m\u001b[0minfo\u001b[0m\u001b[0;34m)\u001b[0m\u001b[0;34m\u001b[0m\u001b[0m\n\u001b[1;32m     17\u001b[0m \u001b[0mred_bls\u001b[0m \u001b[0;34m=\u001b[0m \u001b[0mnp\u001b[0m\u001b[0;34m.\u001b[0m\u001b[0marray\u001b[0m\u001b[0;34m(\u001b[0m\u001b[0minfo\u001b[0m\u001b[0;34m.\u001b[0m\u001b[0mget_reds\u001b[0m\u001b[0;34m(\u001b[0m\u001b[0;34m)\u001b[0m\u001b[0;34m)\u001b[0m\u001b[0;34m\u001b[0m\u001b[0m\n",
      "\u001b[0;31mAttributeError\u001b[0m: 'module' object has no attribute 'omni'"
     ]
    }
   ],
   "source": [
    "# Load data\n",
    "uvd = UVData()\n",
    "uvd.read(dfile)\n",
    "uvd.ants = np.unique(np.concatenate([uvd.ant_1_array, uvd.ant_2_array]))\n",
    "\n",
    "# Get metadata\n",
    "freqs = uvd.freq_array.squeeze() / 1e6\n",
    "times = uvd.time_array.reshape(uvd.Ntimes, uvd.Nbls)[:, 0]\n",
    "jd_start = np.floor(times.min())\n",
    "Nfreqs = len(freqs)\n",
    "Ntimes = len(times)\n",
    "\n",
    "# get redundant info\n",
    "aa = hc.utils.get_aa_from_uv(uvd)\n",
    "info = hc.omni.aa_to_info(aa)\n",
    "print(info)\n",
    "red_bls = np.array(info.get_reds())\n",
    "antpos, ants = uvd.get_ENU_antpos(pick_data_ants=False)\n",
    "ants = sorted(ants)\n",
    "ants_red = sorted(np.unique(np.concatenate(red_bls)))\n",
    "Nants = len(ants)\n",
    "Nside = int(np.ceil(np.sqrt(Nants)))\n",
    "Yside = int(np.ceil(float(Nants)/Nside))"
   ]
  },
  {
   "cell_type": "markdown",
   "metadata": {},
   "source": [
    "## Plot Autos"
   ]
  },
  {
   "cell_type": "code",
   "execution_count": null,
   "metadata": {},
   "outputs": [],
   "source": [
    "### plot autos\n",
    "t_index = 0\n",
    "jd = times[t_index]\n",
    "utc = Time(jd, format='jd').datetime\n",
    "\n",
    "xlim = (-50, Nfreqs+50)\n",
    "ylim = (-10,30)\n",
    "\n",
    "fig, axes = plt.subplots(Yside, Nside, figsize=(14,14), dpi=75)\n",
    "fig.subplots_adjust(wspace=0.2, hspace=0.2)\n",
    "fig.suptitle(\"JD = {0}, time = {1} UTC\".format(jd, utc), fontsize=14)\n",
    "fig.tight_layout(rect=(0, 0, 1, 0.95))\n",
    "\n",
    "k = 0\n",
    "for i in range(Yside):\n",
    "    for j in range(Nside):\n",
    "        ax = axes[i,j]\n",
    "        ax.set_xlim(xlim)\n",
    "        ax.set_ylim(ylim)\n",
    "        if k < Nants:\n",
    "            px, = ax.plot(10*np.log10(np.abs(uvd.get_data((ants[k], ants[k], 'xx'))[t_index])),\n",
    "                          color='steelblue', alpha=0.75, linewidth=3)\n",
    "            py, = ax.plot(10*np.log10(np.abs(uvd.get_data((ants[k], ants[k], 'yy'))[t_index])),\n",
    "                          color='darkorange', alpha=0.75, linewidth=3)\n",
    "            ax.grid(True, which='both')\n",
    "            ax.set_title(str(ants[k]), fontsize=14)\n",
    "            if k == 0:\n",
    "                ax.legend([px, py], ['East', 'North'], fontsize=12)\n",
    "        else:\n",
    "            ax.axis('off')\n",
    "        if j != 0:\n",
    "            ax.set_yticklabels([])\n",
    "        else:\n",
    "            [t.set_fontsize(12) for t in ax.get_yticklabels()]\n",
    "            ax.set_ylabel(r'$10\\cdot\\log_{10}$ amplitude', fontsize=14)\n",
    "        if i != Yside-1:\n",
    "            ax.set_xticklabels([])\n",
    "        else:\n",
    "            [t.set_fontsize(12) for t in ax.get_xticklabels()]\n",
    "            ax.set_xlabel('freq channel', fontsize=14)\n",
    "\n",
    "        k += 1"
   ]
  },
  {
   "cell_type": "markdown",
   "metadata": {},
   "source": [
    "## Plot auto amplitude at a specific frequency over entire night\n"
   ]
  },
  {
   "cell_type": "code",
   "execution_count": null,
   "metadata": {},
   "outputs": [],
   "source": [
    "def timeseries_data(files, nu_index=500, poli=0):\n",
    "    print \"gather nightly data for JD = {0}\".format(jd_start)\n",
    "    uv = UVData()\n",
    "    uv.read(files, ant_str='auto', freq_chans=[nu_index])\n",
    "    amps = np.abs(uv.data_array[:, 0, 0, poli].reshape(uv.Ntimes, uv.Nants_data,\n",
    "                                                       np.size(poli)))\n",
    "    times = np.unique(uv.time_array)\n",
    "    return np.array(amps).T, np.array(times)\n",
    "\n",
    "nu_index = 500\n",
    "amps_timeseries, times = timeseries_data(dfiles, nu_index=nu_index, poli=[0, 1])\n",
    "# times_xx = times_xx % 1\n",
    "# times_yy = times_yy % 1"
   ]
  },
  {
   "cell_type": "code",
   "execution_count": null,
   "metadata": {},
   "outputs": [],
   "source": [
    "# plot autos\n",
    "ylim = (0, np.median(np.abs(amps_timeseries))*3)\n",
    "ylim = (1e-1, np.abs(amps_timeseries).max() * 3)\n",
    "\n",
    "fig, axes = plt.subplots(Yside, Nside, figsize=(14,14), dpi=75)\n",
    "fig.subplots_adjust(wspace=0.2, hspace=0.2)\n",
    "fig.suptitle(\"autocorrelation from {0} -- {1} at freq bin {2}\".format(times[0], times[-1], nu_index), fontsize=14)\n",
    "fig.tight_layout(rect=(0, 0, 1, 0.95))\n",
    "\n",
    "k = 0\n",
    "for i in range(Yside):\n",
    "    for j in range(Nside):\n",
    "        ax = axes[i,j]\n",
    "        ax.set_ylim(ylim)\n",
    "        if k < Nants:\n",
    "            ax.set_yscale('log')\n",
    "            px, = ax.plot(times, np.abs(amps_timeseries[0, k, :]), color='steelblue', alpha=0.5, linewidth=3)\n",
    "            py, = ax.plot(times, np.abs(amps_timeseries[1, k, :]), color='darkorange', alpha=0.5, linewidth=3)\n",
    "            ax.grid(True)\n",
    "            ax.set_title(str(ants[k]), fontsize=14)\n",
    "            if k == 0:\n",
    "                ax.legend([px, py], ['East', 'North'], fontsize=12)\n",
    "        else:\n",
    "            ax.axis('off')\n",
    "        if j != 0:\n",
    "            ax.set_yticklabels([])\n",
    "        else:\n",
    "            [t.set_fontsize(12) for t in ax.get_yticklabels()]\n",
    "            ax.set_ylabel('amplitude', fontsize=14)\n",
    "        if i != Yside-1:\n",
    "            ax.set_xticklabels([])\n",
    "        else:\n",
    "            [t.set_fontsize(12) for t in ax.get_xticklabels()]\n",
    "            [t.set_rotation(25) for t in ax.get_xticklabels()]\n",
    "            ax.xaxis.set_major_formatter(FormatStrFormatter('%.3f'))\n",
    "            ax.set_xlabel('decimal of JD', fontsize=14)\n",
    "        k += 1"
   ]
  },
  {
   "cell_type": "markdown",
   "metadata": {},
   "source": [
    "## Ant metrics"
   ]
  },
  {
   "cell_type": "markdown",
   "metadata": {},
   "source": [
    "### Run"
   ]
  },
  {
   "cell_type": "code",
   "execution_count": null,
   "metadata": {},
   "outputs": [],
   "source": [
    "# Run all the metrics cause why not\n",
    "# Output metrics files will look like: zen.JD.JD.HH.uvh5.ant_metrics.hdf5\n",
    "hqm.ant_metrics.ant_metrics_run(dfiles, pols=['xx', 'yy', 'yx', 'xy'], crossCut=5.0,\n",
    "                                deadCut=5.0, alwaysDeadCut=10.0, metrics_path='',\n",
    "                                extension='.ant_metrics.hdf5', vis_format='uvh5',\n",
    "                                verbose=False, history='',\n",
    "                                run_mean_vij=True, run_red_corr=True,\n",
    "                                run_cross_pols=True)"
   ]
  },
  {
   "cell_type": "markdown",
   "metadata": {},
   "source": [
    "### Ant metrics for a single file"
   ]
  },
  {
   "cell_type": "code",
   "execution_count": null,
   "metadata": {},
   "outputs": [],
   "source": [
    "antfile = os.path.join(data_path, dfile_base + '.ant_metrics.hdf5')\n",
    "ant_metrics = hqm.ant_metrics.load_antenna_metrics(antfile)"
   ]
  },
  {
   "cell_type": "code",
   "execution_count": null,
   "metadata": {},
   "outputs": [],
   "source": [
    "def plot_metric(metrics, ants=None, antpols=None, title='', ylabel='Modified z-Score', xlabel=''):\n",
    "    '''Helper function for quickly plotting an individual antenna metric.'''\n",
    "\n",
    "    if ants is None:\n",
    "        ants = list(set([key[0] for key in metrics.keys()]))\n",
    "    if antpols is None:\n",
    "        antpols = list(set([key[1] for key in metrics.keys()]))\n",
    "\n",
    "    for antpol in antpols:\n",
    "        for i,ant in enumerate(ants):\n",
    "            metric = 0\n",
    "            if metrics.has_key((ant,antpol)):\n",
    "                metric = metrics[(ant,antpol)]\n",
    "            # skip if nan\n",
    "            if np.isnan(metric): continue\n",
    "            if metric is not None:\n",
    "                plt.plot(i,metric,'.')\n",
    "                if antpol == 'y':\n",
    "                    antpol_str = 'n'\n",
    "                elif antpol == 'x':\n",
    "                    antpol_str = 'e'\n",
    "                plt.annotate(str(ant)+antpol_str,xy=(i,metrics[(ant,antpol)]))\n",
    "        plt.gca().set_prop_cycle(None)\n",
    "    plt.title(title)\n",
    "    plt.ylabel(ylabel)\n",
    "    plt.xlabel(xlabel)"
   ]
  },
  {
   "cell_type": "code",
   "execution_count": null,
   "metadata": {
    "scrolled": false
   },
   "outputs": [],
   "source": [
    "print \"Ant Metrics for {}\".format(antfile)\n",
    "plt.figure()\n",
    "plot_metric(ant_metrics['final_mod_z_scores']['meanVij'], \n",
    "            title = 'Mean Vij Modified z-Score')\n",
    "\n",
    "plt.figure()\n",
    "plot_metric(ant_metrics['final_mod_z_scores']['redCorr'],\n",
    "            title = 'Redundant Visibility Correlation Modified z-Score')\n",
    "\n",
    "plt.figure()\n",
    "plot_metric(ant_metrics['final_mod_z_scores']['meanVijXPol'], antpols=['x'],\n",
    "            title = 'Modified z-score of (Vxy+Vyx)/(Vxx+Vyy)')\n",
    "\n",
    "plt.figure()\n",
    "plot_metric(ant_metrics['final_mod_z_scores']['redCorrXPol'], antpols=['x'],\n",
    "            title = 'Modified z-Score of Power Correlation Ratio Cross/Same')"
   ]
  },
  {
   "cell_type": "markdown",
   "metadata": {},
   "source": [
    "### Ant Metrics `xants` over the entire observation"
   ]
  },
  {
   "cell_type": "code",
   "execution_count": null,
   "metadata": {},
   "outputs": [],
   "source": [
    "# append xants ant metrics over night\n",
    "xants = np.zeros((Nants*2, Nfiles))\n",
    "dead_ants = np.zeros((Nants*2, Nfiles))\n",
    "cross_ants = np.zeros((Nants*2, Nfiles))\n",
    "badants = []\n",
    "pol2ind = {'x':0, 'y':1}\n",
    "\n",
    "for i, fbase in enumerate(dfile_bases):\n",
    "    antfname = os.path.join(data_path, fbase + '.ant_metrics.hdf5')\n",
    "    try:\n",
    "        antmets = hqm.ant_metrics.load_antenna_metrics(antfname)\n",
    "        for j in antmets['xants']:\n",
    "            xants[2*ants.index(j[0])+pol2ind[j[1]], i] = 1\n",
    "        badants.extend(map(lambda x: x[0], antmets['xants']))\n",
    "        for j in antmets['crossed_ants']:\n",
    "            cross_ants[2*ants.index(j[0])+pol2ind[j[1]], i] = 1\n",
    "        for j in antmets['dead_ants']:\n",
    "            dead_ants[2*ants.index(j[0])+pol2ind[j[1]], i] = 1\n",
    "    except:\n",
    "        pass\n",
    "    \n",
    "badants = np.unique(badants)\n",
    "\n",
    "xants[np.where(xants==1.0)] *= np.nan\n",
    "dead_ants[np.where(dead_ants==0.0)] *= np.nan\n",
    "cross_ants[np.where(cross_ants==0.0)] *= np.nan"
   ]
  },
  {
   "cell_type": "code",
   "execution_count": null,
   "metadata": {
    "scrolled": false
   },
   "outputs": [],
   "source": [
    "# figure\n",
    "fig, ax = plt.subplots(1, figsize=(16,30), dpi=75)\n",
    "\n",
    "# plotting\n",
    "# plot xants\n",
    "ax.matshow(xants, aspect='auto', cmap='RdYlGn_r', vmin=-.3, vmax=1.3,\n",
    "           extent=[0, len(dfile_times), Nants*2, 0])\n",
    "\n",
    "# only plot if not completely masked\n",
    "if np.isnan(dead_ants).min() == False:\n",
    "    ax.matshow(dead_ants, aspect='auto', cmap='RdYlGn_r', vmin=-.3, vmax=1.3,\n",
    "               extent=[0, len(dfile_times), Nants*2, 0])\n",
    "    \n",
    "if np.isnan(cross_ants).min() == False:\n",
    "    ax.matshow(cross_ants, aspect='auto', cmap='RdBu', vmin=-.3, vmax=1.3,\n",
    "               extent=[0, len(dfile_times), Nants*2, 0])\n",
    "\n",
    "# axes\n",
    "ax.grid(color='k')\n",
    "ax.xaxis.set_ticks_position('bottom')\n",
    "ax.set_xticks(np.arange(len(dfile_times))+0.5)\n",
    "ax.set_yticks(np.arange(Nants*2)+0.5)\n",
    "ax.tick_params(size=8)\n",
    "if Nfiles > 20:\n",
    "    ticklabels = np.around(dfile_times % jd_start, 3).astype(str)\n",
    "    ticklabels[::2] = ''\n",
    "    ax.set_xticklabels(ticklabels)\n",
    "else:\n",
    "    ax.set_xticklabels(np.around(dfile_times % jd_start, 3))\n",
    "ax.set_yticklabels([''.join([str(a), p]) for a in ants for p in ['e', 'n']])\n",
    "\n",
    "[t.set_rotation(30) for t in ax.get_xticklabels()]\n",
    "[t.set_size(12) for t in ax.get_xticklabels()]\n",
    "[t.set_rotation(0) for t in ax.get_yticklabels()]\n",
    "[t.set_size(10) for t in ax.get_yticklabels()]\n",
    "\n",
    "ax.set_title(\"Ant Metrics bad ants over observation\", fontsize=14)\n",
    "ax.set_xlabel('decimal of JD = {}'.format(int(jd_start)), fontsize=16)\n",
    "ax.set_ylabel('antenna number and pol', fontsize=16)\n",
    "red_ptch = mpatches.Patch(color='red')\n",
    "grn_ptch = mpatches.Patch(color='green')\n",
    "blu_ptch = mpatches.Patch(color='blue')\n",
    "ax.legend([red_ptch, blu_ptch, grn_ptch], ['dead ant', 'cross ant', 'good ant'], fontsize=14)"
   ]
  },
  {
   "cell_type": "markdown",
   "metadata": {},
   "source": [
    "### Plot Ant Metrics over observation for specific antennas"
   ]
  },
  {
   "cell_type": "code",
   "execution_count": null,
   "metadata": {},
   "outputs": [],
   "source": [
    "# get ant metrics over night for specific antennas\n",
    "ant_indices = np.where(np.sum(np.isnan(xants), axis=1) > 0)[0]\n",
    "\n",
    "# append ant metrics over night\n",
    "antpols = np.concatenate(map(lambda x: [str(x)+'e', str(x)+'n'], ants))[ant_indices]\n",
    "ap_list = OrderedDict([(ap, []) for ap in antpols])\n",
    "mets = {'meanVij':copy.deepcopy(ap_list), 'meanVijXPol':copy.deepcopy(ap_list), 'redCorr':copy.deepcopy(ap_list), 'redCorrXPol':copy.deepcopy(ap_list)}\n",
    "tfiles = []\n",
    "pol2ind = {'x':0, 'y':1}\n",
    "\n",
    "for i, fbase in enumerate(dfile_bases):\n",
    "    antfname = os.path.join(data_path, fbase + '.ant_metrics.hdf5')\n",
    "    try:\n",
    "        antmets = hqm.ant_metrics.load_antenna_metrics(antfname)['final_mod_z_scores']\n",
    "        tfiles.append(float('.'.join(fbase.split('.')[1:3])))\n",
    "        for am in antmets.keys():\n",
    "            for ap in antpols:\n",
    "                a,p = re.match(r\"([0-9]+)([a-z]+)\", ap, re.I).groups()\n",
    "                mets[am][ap].append(antmets[am][(int(a), 'x' if p == 'e' else 'y')])\n",
    "    except:\n",
    "        pass\n",
    "    \n",
    "tfiles = np.array(tfiles) % np.floor(np.min(tfiles))"
   ]
  },
  {
   "cell_type": "code",
   "execution_count": null,
   "metadata": {
    "scrolled": false
   },
   "outputs": [],
   "source": [
    "fig, ax = plt.subplots(4, 1, figsize=(16,20), dpi=75)\n",
    "\n",
    "for i, am in enumerate(mets.keys()):\n",
    "    ax[i].grid(True)\n",
    "    pl = np.concatenate([ax[i].plot(tfiles, mets[am][k], alpha=0.75, ms=5, marker='o') for k in mets[am].keys()])\n",
    "    ax[i].legend(pl, mets[am].keys())\n",
    "    ax[i].set_title(am)\n",
    "    ax[i].set_ylabel('modified z-score', fontsize=12)\n",
    "\n",
    "ax[-1].set_xlabel('decimal of JD = {}'.format(jd_start), fontsize=14)"
   ]
  },
  {
   "cell_type": "markdown",
   "metadata": {},
   "source": [
    "## Calibration"
   ]
  },
  {
   "cell_type": "markdown",
   "metadata": {},
   "source": [
    "### Need to run calibration here if we want to use the gains/model for RFI."
   ]
  },
  {
   "cell_type": "markdown",
   "metadata": {},
   "source": [
    "## RFI"
   ]
  },
  {
   "cell_type": "markdown",
   "metadata": {},
   "source": [
    "### Run xrfi on some stuff"
   ]
  },
  {
   "cell_type": "code",
   "execution_count": null,
   "metadata": {},
   "outputs": [],
   "source": [
    "history = 'xrfi run with H2CA Notebook. '\n",
    "\n",
    "for f in dfile_bases:\n",
    "    cf = os.path.join(data_path, f + '.omni.calfits')\n",
    "    mf = os.path.join(data_path, f + '.vis.uvfits')\n",
    "    metf = os.path.join(data_path, f + '.ant_metrics.hdf5')\n",
    "    if not os.path.exists(cf):\n",
    "        cf = None\n",
    "    if not os.path.exists(mf):\n",
    "        mf = None\n",
    "    hqm.xrfi.xrfi_h1c_run(f, history, infile_format='uvh5', summary=True,\n",
    "                          model_file=mf, calfits_file=cf, metrics_file=metf)"
   ]
  },
  {
   "cell_type": "markdown",
   "metadata": {},
   "source": [
    "### Plot some RFI"
   ]
  },
  {
   "cell_type": "code",
   "execution_count": null,
   "metadata": {},
   "outputs": [],
   "source": [
    "data_wf_files = sorted(glob.glob(\"{0}/zen.???????.?????.HH.flag_summary.h5\".format(data_path)))\n",
    "data_th_files = sorted(glob.glob(\"{0}/zen.???????.?????.HH.waterfall.flags.h5\".format(data_path)))\n",
    "\n",
    "data_wfs = hqm.UVFlag(data_wf_files)\n",
    "data_th = hqm.UVFlag(data_th_files)"
   ]
  },
  {
   "cell_type": "code",
   "execution_count": null,
   "metadata": {},
   "outputs": [],
   "source": [
    "plt.figure()\n",
    "jd0 = np.floor(data_wfs.time_array.min())\n",
    "extent = [data_wfs.freq_array.min() * 1e-6, data_wfs.freq_array.max() * 1e-6,\n",
    "          (data_wfs.time_array.max() - jd0) * 24,\n",
    "          (data_wfs.time_array.min() - jd0) * 24]\n",
    "plt.subplot(121)\n",
    "plt.imshow(data_wfs.metric_array[:, :, 0], extent=extent, aspect='auto', vmin=0, vmax=1)\n",
    "plt.xlabel('Freq. (MHz)')\n",
    "plt.ylabel('Hours since JD ' + str(int(jd0)))\n",
    "plt.title('XX')\n",
    "plt.subplot(122)\n",
    "plt.imshow(data_wfs.metric_array[:, :, 1], extent=extent, aspect='auto', vmin=0, vmax=1)\n",
    "plt.xlabel('Freq. (MHz)')\n",
    "plt.gca().set_yticklabels([])\n",
    "plt.title('YY')\n",
    "plt.colorbar()\n",
    "\n",
    "plt.gcf().suptitle('Data-based flags, averaged over bl', fontsize=16)"
   ]
  },
  {
   "cell_type": "code",
   "execution_count": null,
   "metadata": {},
   "outputs": [],
   "source": [
    "plt.figure()\n",
    "plt.subplot(211)\n",
    "plt.plot(data_wfs.freq_array * 1e-6, np.mean(data_wfs.metric_array[:, :, 0], axis=0),\n",
    "         label='xx')\n",
    "plt.plot(data_wfs.freq_array * 1e-6, np.mean(data_wfs.metric_array[:, :, 1], axis=0),\n",
    "         label='yy')\n",
    "plt.xlabel('Freq. (MHz)')\n",
    "plt.ylabel('Baseline Fraction')\n",
    "plt.legend()\n",
    "\n",
    "plt.subplot(212)\n",
    "plt.plot((data_wfs.time_array - jd0) * 24, np.mean(data_wfs.metric_array[:, :, 0], axis=1))\n",
    "plt.plot((data_wfs.time_array - jd0) * 24, np.mean(data_wfs.metric_array[:, :, 1], axis=1))\n",
    "plt.xlabel('Hours since JD ' + str(int(jd0)))\n",
    "plt.ylabel('Baseline Fraction')\n"
   ]
  },
  {
   "cell_type": "code",
   "execution_count": null,
   "metadata": {},
   "outputs": [],
   "source": [
    "cal_x_files = sorted(glob.glob(\"{0}/zen.*.*.HH.omni.g.flags.h5\".format(data_path)))\n",
    "cal_g_files = sorted(glob.glob(\"{0}/zen.*.*.HH.omni.x.flags.h5\".format(data_path)))\n",
    "model_files = sorted(glob.glob(\"{0}/zen.*.*.HH.vis.flags.h5\".format(data_path)))\n",
    "\n",
    "cal_x_wfs = hqm.UVFlag(cal_x_files)\n",
    "cal_g_wfs = hqm.UVFlag(cal_g_files)\n",
    "model_wfs = hqm.UVFlag(model_files)"
   ]
  },
  {
   "cell_type": "code",
   "execution_count": null,
   "metadata": {},
   "outputs": [],
   "source": [
    "plt.figure()\n",
    "jd0 = np.floor(cal_x_wfs.time_array.min())\n",
    "extent = [cal_x_wfs.freq_array.min() * 1e-6, cal_x_wfs.freq_array.max() * 1e-6,\n",
    "          (cal_x_wfs.time_array.max() - jd0) * 24,\n",
    "          (cal_x_wfs.time_array.min() - jd0) * 24]\n",
    "plt.subplot(131)\n",
    "plt.imshow(cal_g_wfs.flag_array[:, :, 0], extent=extent, aspect='auto')\n",
    "plt.xlabel('Freq. (MHz)')\n",
    "plt.ylabel('Hours since JD ' + str(int(jd0)))\n",
    "plt.title('Gains')\n",
    "plt.subplot(132)\n",
    "plt.imshow(cal_x_wfs.flag_array[:, :, 0], extent=extent, aspect='auto')\n",
    "plt.xlabel('Freq. (MHz)')\n",
    "plt.gca().set_yticklabels([])\n",
    "plt.title('Chi-sq')\n",
    "plt.subplot(133)\n",
    "plt.imshow(model_wfs.flag_array[:, :, 0], extent=extent, aspect='auto')\n",
    "plt.xlabel('Freq. (MHz)')\n",
    "plt.gca().set_yticklabels([])\n",
    "plt.title('Model vis')\n",
    "\n",
    "plt.gcf().suptitle('Cal-based flags', fontsize=16)"
   ]
  },
  {
   "cell_type": "code",
   "execution_count": null,
   "metadata": {},
   "outputs": [],
   "source": [
    "# Plot a comparison between data and cal based\n",
    "plt.figure()\n",
    "xx_wf = (2 * data_th.flag_array[:, :, 0].astype(float)\n",
    "         + (cal_g_wfs.flag_array[:, :, 0] | cal_x_wfs.flag_array[:, :, 0]\n",
    "            | model_wfs.flag_array[:, :, 0]))\n",
    "yy_wf = (2 * data_th.flag_array[:, :, 1].astype(float)\n",
    "         + (cal_g_wfs.flag_array[:, :, 0] | cal_x_wfs.flag_array[:, :, 0]\n",
    "            | model_wfs.flag_array[:, :, 0]))\n",
    "\n",
    "cmap = colors.ListedColormap(['gray', 'red', 'blue', 'white'])\n",
    "bounds=[-.5,.5, 1.5, 2.5, 3.5]\n",
    "norm = colors.BoundaryNorm(bounds, cmap.N)\n",
    "\n",
    "plt.subplot(121)\n",
    "img = plt.imshow(xx_wf, vmin=0, vmax=3, aspect='auto', cmap=cmap, norm=norm, extent=extent)\n",
    "plt.title('XX')\n",
    "plt.xlabel('Freq. (MHz)')\n",
    "plt.ylabel('Hours since JD ' + str(int(jd0)))\n",
    "\n",
    "plt.subplot(122)\n",
    "img = plt.imshow(yy_wf, vmin=0, vmax=3, aspect='auto', cmap=cmap, norm=norm, extent=extent)\n",
    "cbar = plt.colorbar(img, cmap=cmap, norm=norm, boundaries=bounds, ticks=[0, 1, 2, 3])\n",
    "plt.gca().set_yticklabels([])\n",
    "plt.title('YY')\n",
    "plt.xlabel('Freq. (MHz)')\n",
    "\n",
    "cbar.ax.set_yticklabels(['None', 'Cal', 'Data', 'Both'])\n",
    "\n",
    "plt.gcf().suptitle('Comparison of flagging methods', fontsize=16)"
   ]
  },
  {
   "cell_type": "code",
   "execution_count": null,
   "metadata": {},
   "outputs": [],
   "source": []
  }
 ],
 "metadata": {
  "kernelspec": {
   "display_name": "hera",
   "language": "python",
   "name": "hera"
  },
  "language_info": {
   "codemirror_mode": {
    "name": "ipython",
    "version": 2
   },
   "file_extension": ".py",
   "mimetype": "text/x-python",
   "name": "python",
   "nbconvert_exporter": "python",
   "pygments_lexer": "ipython2",
   "version": "2.7.16"
  }
 },
 "nbformat": 4,
 "nbformat_minor": 2
}
