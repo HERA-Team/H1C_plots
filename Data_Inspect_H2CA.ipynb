{
 "cells": [
  {
   "cell_type": "markdown",
   "metadata": {},
   "source": [
    "# First look at H2C Commissioning Data\n",
    "This notebook will be run daily to give us a glance at the early commissioning data as it arrives at NRAO. The goal is to run some of our analysis steps and provide useful plots."
   ]
  },
  {
   "cell_type": "code",
   "execution_count": 1,
   "metadata": {
    "collapsed": true
   },
   "outputs": [
    {
     "name": "stderr",
     "output_type": "stream",
     "text": [
      "/Users/abeardsley/anaconda/envs/HERA/lib/python2.7/site-packages/astropy/table/np_utils.py:19: RuntimeWarning: numpy.dtype size changed, may indicate binary incompatibility. Expected 96, got 88\n",
      "  from . import _np_utils\n",
      "/Users/abeardsley/anaconda/envs/HERA/lib/python2.7/site-packages/astropy/io/ascii/fastbasic.py:9: RuntimeWarning: numpy.dtype size changed, may indicate binary incompatibility. Expected 96, got 88\n",
      "  from . import cparser\n",
      "/Users/abeardsley/anaconda/envs/HERA/lib/python2.7/site-packages/h5py/__init__.py:36: RuntimeWarning: numpy.dtype size changed, may indicate binary incompatibility. Expected 96, got 88\n",
      "  from ._conv import register_converters as _register_converters\n",
      "/Users/abeardsley/anaconda/envs/HERA/lib/python2.7/site-packages/h5py/__init__.py:45: RuntimeWarning: numpy.dtype size changed, may indicate binary incompatibility. Expected 96, got 88\n",
      "  from . import h5a, h5d, h5ds, h5f, h5fd, h5g, h5r, h5s, h5t, h5p, h5z\n",
      "/Users/abeardsley/anaconda/envs/HERA/lib/python2.7/site-packages/h5py/_hl/group.py:22: RuntimeWarning: numpy.dtype size changed, may indicate binary incompatibility. Expected 96, got 88\n",
      "  from .. import h5g, h5i, h5o, h5r, h5t, h5l, h5p\n",
      "/Users/abeardsley/anaconda/envs/HERA/lib/python2.7/site-packages/astropy/stats/lombscargle/implementations/main.py:21: RuntimeWarning: numpy.dtype size changed, may indicate binary incompatibility. Expected 96, got 88\n",
      "  from .cython_impl import lombscargle_cython\n",
      "/Users/abeardsley/anaconda/envs/HERA/lib/python2.7/site-packages/sklearn/utils/__init__.py:9: RuntimeWarning: numpy.dtype size changed, may indicate binary incompatibility. Expected 96, got 88\n",
      "  from .murmurhash import murmurhash3_32\n",
      "/Users/abeardsley/anaconda/envs/HERA/lib/python2.7/site-packages/sklearn/utils/extmath.py:24: RuntimeWarning: numpy.dtype size changed, may indicate binary incompatibility. Expected 96, got 88\n",
      "  from ._logistic_sigmoid import _log_logistic_sigmoid\n",
      "/Users/abeardsley/anaconda/envs/HERA/lib/python2.7/site-packages/sklearn/utils/extmath.py:26: RuntimeWarning: numpy.dtype size changed, may indicate binary incompatibility. Expected 96, got 88\n",
      "  from .sparsefuncs_fast import csr_row_norms\n",
      "/Users/abeardsley/anaconda/envs/HERA/lib/python2.7/site-packages/sklearn/metrics/cluster/supervised.py:23: RuntimeWarning: numpy.dtype size changed, may indicate binary incompatibility. Expected 96, got 88\n",
      "  from .expected_mutual_info_fast import expected_mutual_information\n",
      "/Users/abeardsley/anaconda/envs/HERA/lib/python2.7/site-packages/sklearn/metrics/pairwise.py:30: RuntimeWarning: numpy.dtype size changed, may indicate binary incompatibility. Expected 96, got 88\n",
      "  from .pairwise_fast import _chi2_kernel_fast, _sparse_manhattan\n"
     ]
    }
   ],
   "source": [
    "%matplotlib notebook\n",
    "import matplotlib.pyplot as plt\n",
    "import numpy as np\n",
    "import hera_qm as hqm\n",
    "import hera_cal as hc\n",
    "from pyuvdata import UVCal, UVData, UVFITS\n",
    "import os\n",
    "import sys\n",
    "import glob\n",
    "import uvtools as uvt"
   ]
  },
  {
   "cell_type": "markdown",
   "metadata": {},
   "source": [
    "## Set up Env variables and get files"
   ]
  },
  {
   "cell_type": "code",
   "execution_count": null,
   "metadata": {},
   "outputs": [],
   "source": [
    "# get data location\n",
    "data_path = os.environ['DATA_PATH']\n",
    "\n",
    "# get xx and yy files\n",
    "xxfiles = sorted(glob.glob(\"{0}/zen.*.*.xx.HH.uvh5\".format(data_path)))\n",
    "yyfiles = sorted(glob.glob(\"{0}/zen.*.*.yy.HH.uvh5\".format(data_path)))\n",
    "Nfiles = len(xxfiles)\n",
    "\n",
    "xxfile_bases = map(os.path.basename, xxfiles)\n",
    "yyfile_bases = map(os.path.basename, yyfiles)\n",
    "\n",
    "xxfile_times = np.array(map(lambda x: '.'.join(os.path.basename(x).split('.')[1:3]), xxfiles), np.float)\n",
    "yyfile_times = np.array(map(lambda y: '.'.join(os.path.basename(y).split('.')[1:3]), yyfiles), np.float)\n",
    "\n",
    "# choose one for single-file plots\n",
    "file_index = np.min([len(xxfiles)-1, 20])\n",
    "xxfile = xxfiles[file_index]\n",
    "yyfile = yyfiles[file_index]\n",
    "xxfile_base = xxfile_bases[file_index]\n",
    "yyfile_base = yyfile_bases[file_index]\n",
    "file_jd = xxfile_times[file_index]"
   ]
  },
  {
   "cell_type": "code",
   "execution_count": null,
   "metadata": {},
   "outputs": [],
   "source": [
    "# Load data\n",
    "uvd_xx = UVData()\n",
    "uvd_xx.read(xxfile)\n",
    "uvd_xx.ants = np.unique(np.concatenate([uvd_xx.ant_1_array, uvd_xx.ant_2_array]))\n",
    "uvd_yy = UVData()\n",
    "uvd_yy.read(yyfile)\n",
    "uvd_yy.ants = np.unique(np.concatenate([uvd_yy.ant_1_array, uvd_yy.ant_2_array]))\n",
    "\n",
    "# Get metadata\n",
    "freqs = uvd_xx.freq_array.squeeze() / 1e6\n",
    "times = uvd_xx.time_array.reshape(uvd_xx.Ntimes, uvd_xx.Nbls)[:, 0]\n",
    "jd_start = np.floor(times.min())\n",
    "Nfreqs = len(freqs)\n",
    "Ntimes = len(times)\n",
    "\n",
    "# get redundant info\n",
    "aa = hc.utils.get_aa_from_uv(uvd_xx)\n",
    "info = hc.omni.aa_to_info(aa)\n",
    "red_bls = np.array(info.get_reds())\n",
    "antpos, ants = uvd_xx.get_ENU_antpos(pick_data_ants=False)\n",
    "ants = sorted(ants)\n",
    "ants_red = sorted(np.unique(np.concatenate(red_bls)))\n",
    "Nants = len(ants)\n",
    "Nside = int(np.ceil(np.sqrt(Nants)))\n",
    "Yside = int(np.ceil(float(Nants)/Nside))"
   ]
  },
  {
   "cell_type": "markdown",
   "metadata": {},
   "source": [
    "## Plot Autos"
   ]
  },
  {
   "cell_type": "code",
   "execution_count": null,
   "metadata": {},
   "outputs": [],
   "source": [
    "### plot autos\n",
    "t_index = 0\n",
    "jd = times[t_index]\n",
    "utc = Time(jd, format='jd').datetime\n",
    "\n",
    "xlim = (-50, Nfreqs+50)\n",
    "ylim = (-10,30)\n",
    "\n",
    "fig, axes = plt.subplots(Yside, Nside, figsize=(14,14), dpi=75)\n",
    "fig.subplots_adjust(wspace=0.2, hspace=0.2)\n",
    "fig.suptitle(\"JD = {0}, time = {1} UTC\".format(jd, utc), fontsize=14)\n",
    "fig.tight_layout(rect=(0, 0, 1, 0.95))\n",
    "\n",
    "k = 0\n",
    "for i in range(Yside):\n",
    "    for j in range(Nside):\n",
    "        ax = axes[i,j]\n",
    "        ax.set_xlim(xlim)\n",
    "        ax.set_ylim(ylim)\n",
    "        if k < Nants:\n",
    "            px, = ax.plot(10*np.log10(np.abs(uvd_xx.get_data((ants[k], ants[k]))[t_index])),\n",
    "                          color='steelblue', alpha=0.75, linewidth=3)\n",
    "            py, = ax.plot(10*np.log10(np.abs(uvd_yy.get_data((ants[k], ants[k]))[t_index])),\n",
    "                          color='darkorange', alpha=0.75, linewidth=3)\n",
    "            ax.grid(True, which='both')\n",
    "            ax.set_title(str(ants[k]), fontsize=14)\n",
    "            if k == 0:\n",
    "                ax.legend([px, py], ['East', 'North'], fontsize=12)\n",
    "        else:\n",
    "            ax.axis('off')\n",
    "        if j != 0:\n",
    "            ax.set_yticklabels([])\n",
    "        else:\n",
    "            [t.set_fontsize(12) for t in ax.get_yticklabels()]\n",
    "            ax.set_ylabel(r'$10\\cdot\\log_{10}$ amplitude', fontsize=14)\n",
    "        if i != Yside-1:\n",
    "            ax.set_xticklabels([])\n",
    "        else:\n",
    "            [t.set_fontsize(12) for t in ax.get_xticklabels()]\n",
    "            ax.set_xlabel('freq channel', fontsize=14)\n",
    "\n",
    "        k += 1"
   ]
  },
  {
   "cell_type": "code",
   "execution_count": null,
   "metadata": {},
   "outputs": [],
   "source": []
  },
  {
   "cell_type": "markdown",
   "metadata": {},
   "source": [
    "## Run ant metrics"
   ]
  },
  {
   "cell_type": "code",
   "execution_count": null,
   "metadata": {},
   "outputs": [],
   "source": [
    "# Run all the metrics cause why not\n",
    "# Output metrics files will look like: zen.JD.JD.HH.uvh5.ant_metrics.hdf5\n",
    "ant_metrics_run(xxfiles, pols=['xx', 'yy', 'xy', 'xy'], crossCut=5.0,\n",
    "                deadCut=5.0, alwaysDeadCut=10.0, metrics_path='',\n",
    "                extension='.ant_metrics.hdf5', vis_format='h5',\n",
    "                verbose=False, history='',\n",
    "                run_mean_vij=True, run_red_corr=True,\n",
    "                run_cross_pols=True)"
   ]
  }
 ],
 "metadata": {
  "kernelspec": {
   "display_name": "Python 2",
   "language": "python",
   "name": "python2"
  },
  "language_info": {
   "codemirror_mode": {
    "name": "ipython",
    "version": 2
   },
   "file_extension": ".py",
   "mimetype": "text/x-python",
   "name": "python",
   "nbconvert_exporter": "python",
   "pygments_lexer": "ipython2",
   "version": "2.7.15"
  }
 },
 "nbformat": 4,
 "nbformat_minor": 2
}
